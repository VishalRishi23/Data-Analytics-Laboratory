{
 "cells": [
  {
   "cell_type": "code",
   "execution_count": 206,
   "id": "77aa8f2a",
   "metadata": {},
   "outputs": [],
   "source": [
    "import numpy as np\n",
    "import pandas as pd\n",
    "import matplotlib.pyplot as plt\n",
    "import seaborn as sns\n",
    "import re\n",
    "import statsmodels.api as sm\n",
    "import scipy\n",
    "import os\n",
    "import sys\n",
    "from sklearn.utils import resample"
   ]
  },
  {
   "cell_type": "markdown",
   "id": "7dc2f907",
   "metadata": {},
   "source": [
    "## Read the data"
   ]
  },
  {
   "cell_type": "code",
   "execution_count": 207,
   "id": "9484f219",
   "metadata": {},
   "outputs": [],
   "source": [
    "data = pd.read_csv('train.csv')"
   ]
  },
  {
   "cell_type": "code",
   "execution_count": 208,
   "id": "51ed96a2",
   "metadata": {},
   "outputs": [
    {
     "data": {
      "text/html": [
       "<div>\n",
       "<style scoped>\n",
       "    .dataframe tbody tr th:only-of-type {\n",
       "        vertical-align: middle;\n",
       "    }\n",
       "\n",
       "    .dataframe tbody tr th {\n",
       "        vertical-align: top;\n",
       "    }\n",
       "\n",
       "    .dataframe thead th {\n",
       "        text-align: right;\n",
       "    }\n",
       "</style>\n",
       "<table border=\"1\" class=\"dataframe\">\n",
       "  <thead>\n",
       "    <tr style=\"text-align: right;\">\n",
       "      <th></th>\n",
       "      <th>PassengerId</th>\n",
       "      <th>Survived</th>\n",
       "      <th>Pclass</th>\n",
       "      <th>Name</th>\n",
       "      <th>Sex</th>\n",
       "      <th>Age</th>\n",
       "      <th>SibSp</th>\n",
       "      <th>Parch</th>\n",
       "      <th>Ticket</th>\n",
       "      <th>Fare</th>\n",
       "      <th>Cabin</th>\n",
       "      <th>Embarked</th>\n",
       "    </tr>\n",
       "  </thead>\n",
       "  <tbody>\n",
       "    <tr>\n",
       "      <th>0</th>\n",
       "      <td>1</td>\n",
       "      <td>0</td>\n",
       "      <td>3</td>\n",
       "      <td>Braund, Mr. Owen Harris</td>\n",
       "      <td>male</td>\n",
       "      <td>22.0</td>\n",
       "      <td>1</td>\n",
       "      <td>0</td>\n",
       "      <td>A/5 21171</td>\n",
       "      <td>7.2500</td>\n",
       "      <td>NaN</td>\n",
       "      <td>S</td>\n",
       "    </tr>\n",
       "    <tr>\n",
       "      <th>1</th>\n",
       "      <td>2</td>\n",
       "      <td>1</td>\n",
       "      <td>1</td>\n",
       "      <td>Cumings, Mrs. John Bradley (Florence Briggs Th...</td>\n",
       "      <td>female</td>\n",
       "      <td>38.0</td>\n",
       "      <td>1</td>\n",
       "      <td>0</td>\n",
       "      <td>PC 17599</td>\n",
       "      <td>71.2833</td>\n",
       "      <td>C85</td>\n",
       "      <td>C</td>\n",
       "    </tr>\n",
       "    <tr>\n",
       "      <th>2</th>\n",
       "      <td>3</td>\n",
       "      <td>1</td>\n",
       "      <td>3</td>\n",
       "      <td>Heikkinen, Miss. Laina</td>\n",
       "      <td>female</td>\n",
       "      <td>26.0</td>\n",
       "      <td>0</td>\n",
       "      <td>0</td>\n",
       "      <td>STON/O2. 3101282</td>\n",
       "      <td>7.9250</td>\n",
       "      <td>NaN</td>\n",
       "      <td>S</td>\n",
       "    </tr>\n",
       "    <tr>\n",
       "      <th>3</th>\n",
       "      <td>4</td>\n",
       "      <td>1</td>\n",
       "      <td>1</td>\n",
       "      <td>Futrelle, Mrs. Jacques Heath (Lily May Peel)</td>\n",
       "      <td>female</td>\n",
       "      <td>35.0</td>\n",
       "      <td>1</td>\n",
       "      <td>0</td>\n",
       "      <td>113803</td>\n",
       "      <td>53.1000</td>\n",
       "      <td>C123</td>\n",
       "      <td>S</td>\n",
       "    </tr>\n",
       "    <tr>\n",
       "      <th>4</th>\n",
       "      <td>5</td>\n",
       "      <td>0</td>\n",
       "      <td>3</td>\n",
       "      <td>Allen, Mr. William Henry</td>\n",
       "      <td>male</td>\n",
       "      <td>35.0</td>\n",
       "      <td>0</td>\n",
       "      <td>0</td>\n",
       "      <td>373450</td>\n",
       "      <td>8.0500</td>\n",
       "      <td>NaN</td>\n",
       "      <td>S</td>\n",
       "    </tr>\n",
       "  </tbody>\n",
       "</table>\n",
       "</div>"
      ],
      "text/plain": [
       "   PassengerId  Survived  Pclass  \\\n",
       "0            1         0       3   \n",
       "1            2         1       1   \n",
       "2            3         1       3   \n",
       "3            4         1       1   \n",
       "4            5         0       3   \n",
       "\n",
       "                                                Name     Sex   Age  SibSp  \\\n",
       "0                            Braund, Mr. Owen Harris    male  22.0      1   \n",
       "1  Cumings, Mrs. John Bradley (Florence Briggs Th...  female  38.0      1   \n",
       "2                             Heikkinen, Miss. Laina  female  26.0      0   \n",
       "3       Futrelle, Mrs. Jacques Heath (Lily May Peel)  female  35.0      1   \n",
       "4                           Allen, Mr. William Henry    male  35.0      0   \n",
       "\n",
       "   Parch            Ticket     Fare Cabin Embarked  \n",
       "0      0         A/5 21171   7.2500   NaN        S  \n",
       "1      0          PC 17599  71.2833   C85        C  \n",
       "2      0  STON/O2. 3101282   7.9250   NaN        S  \n",
       "3      0            113803  53.1000  C123        S  \n",
       "4      0            373450   8.0500   NaN        S  "
      ]
     },
     "execution_count": 208,
     "metadata": {},
     "output_type": "execute_result"
    }
   ],
   "source": [
    "data.head()"
   ]
  },
  {
   "cell_type": "code",
   "execution_count": 209,
   "id": "eeb17071",
   "metadata": {},
   "outputs": [
    {
     "name": "stdout",
     "output_type": "stream",
     "text": [
      "<class 'pandas.core.frame.DataFrame'>\n",
      "RangeIndex: 891 entries, 0 to 890\n",
      "Data columns (total 12 columns):\n",
      " #   Column       Non-Null Count  Dtype  \n",
      "---  ------       --------------  -----  \n",
      " 0   PassengerId  891 non-null    int64  \n",
      " 1   Survived     891 non-null    int64  \n",
      " 2   Pclass       891 non-null    int64  \n",
      " 3   Name         891 non-null    object \n",
      " 4   Sex          891 non-null    object \n",
      " 5   Age          714 non-null    float64\n",
      " 6   SibSp        891 non-null    int64  \n",
      " 7   Parch        891 non-null    int64  \n",
      " 8   Ticket       891 non-null    object \n",
      " 9   Fare         891 non-null    float64\n",
      " 10  Cabin        204 non-null    object \n",
      " 11  Embarked     889 non-null    object \n",
      "dtypes: float64(2), int64(5), object(5)\n",
      "memory usage: 83.7+ KB\n"
     ]
    }
   ],
   "source": [
    "data.info()"
   ]
  },
  {
   "cell_type": "code",
   "execution_count": 210,
   "id": "1a431c3c",
   "metadata": {},
   "outputs": [
    {
     "data": {
      "text/plain": [
       "Index(['PassengerId', 'Survived', 'Pclass', 'Name', 'Sex', 'Age', 'SibSp',\n",
       "       'Parch', 'Ticket', 'Fare', 'Cabin', 'Embarked'],\n",
       "      dtype='object')"
      ]
     },
     "execution_count": 210,
     "metadata": {},
     "output_type": "execute_result"
    }
   ],
   "source": [
    "data.columns"
   ]
  },
  {
   "cell_type": "code",
   "execution_count": 211,
   "id": "cd8d95e7",
   "metadata": {},
   "outputs": [
    {
     "data": {
      "text/plain": [
       "681"
      ]
     },
     "execution_count": 211,
     "metadata": {},
     "output_type": "execute_result"
    }
   ],
   "source": [
    "#Number of unique ticket ids\n",
    "len(data['Ticket'].unique())"
   ]
  },
  {
   "cell_type": "code",
   "execution_count": 212,
   "id": "c2c5b62f",
   "metadata": {},
   "outputs": [
    {
     "data": {
      "text/plain": [
       "['113572', '113572']"
      ]
     },
     "execution_count": 212,
     "metadata": {},
     "output_type": "execute_result"
    }
   ],
   "source": [
    "#Ticket ids for which port of embarkation has Nan values\n",
    "b = list(data['Embarked'].isnull())\n",
    "null_Embarked = []\n",
    "for i in range(len(b)):\n",
    "    if b[i] == True:\n",
    "        null_Embarked.append(data['Ticket'].iloc[i])\n",
    "null_Embarked"
   ]
  },
  {
   "cell_type": "code",
   "execution_count": 213,
   "id": "8610eaa1",
   "metadata": {},
   "outputs": [
    {
     "data": {
      "text/html": [
       "<div>\n",
       "<style scoped>\n",
       "    .dataframe tbody tr th:only-of-type {\n",
       "        vertical-align: middle;\n",
       "    }\n",
       "\n",
       "    .dataframe tbody tr th {\n",
       "        vertical-align: top;\n",
       "    }\n",
       "\n",
       "    .dataframe thead th {\n",
       "        text-align: right;\n",
       "    }\n",
       "</style>\n",
       "<table border=\"1\" class=\"dataframe\">\n",
       "  <thead>\n",
       "    <tr style=\"text-align: right;\">\n",
       "      <th></th>\n",
       "      <th>PassengerId</th>\n",
       "      <th>Survived</th>\n",
       "      <th>Pclass</th>\n",
       "      <th>Name</th>\n",
       "      <th>Sex</th>\n",
       "      <th>Age</th>\n",
       "      <th>SibSp</th>\n",
       "      <th>Parch</th>\n",
       "      <th>Ticket</th>\n",
       "      <th>Fare</th>\n",
       "      <th>Cabin</th>\n",
       "      <th>Embarked</th>\n",
       "    </tr>\n",
       "  </thead>\n",
       "  <tbody>\n",
       "    <tr>\n",
       "      <th>61</th>\n",
       "      <td>62</td>\n",
       "      <td>1</td>\n",
       "      <td>1</td>\n",
       "      <td>Icard, Miss. Amelie</td>\n",
       "      <td>female</td>\n",
       "      <td>38.0</td>\n",
       "      <td>0</td>\n",
       "      <td>0</td>\n",
       "      <td>113572</td>\n",
       "      <td>80.0</td>\n",
       "      <td>B28</td>\n",
       "      <td>NaN</td>\n",
       "    </tr>\n",
       "    <tr>\n",
       "      <th>829</th>\n",
       "      <td>830</td>\n",
       "      <td>1</td>\n",
       "      <td>1</td>\n",
       "      <td>Stone, Mrs. George Nelson (Martha Evelyn)</td>\n",
       "      <td>female</td>\n",
       "      <td>62.0</td>\n",
       "      <td>0</td>\n",
       "      <td>0</td>\n",
       "      <td>113572</td>\n",
       "      <td>80.0</td>\n",
       "      <td>B28</td>\n",
       "      <td>NaN</td>\n",
       "    </tr>\n",
       "  </tbody>\n",
       "</table>\n",
       "</div>"
      ],
      "text/plain": [
       "     PassengerId  Survived  Pclass                                       Name  \\\n",
       "61            62         1       1                        Icard, Miss. Amelie   \n",
       "829          830         1       1  Stone, Mrs. George Nelson (Martha Evelyn)   \n",
       "\n",
       "        Sex   Age  SibSp  Parch  Ticket  Fare Cabin Embarked  \n",
       "61   female  38.0      0      0  113572  80.0   B28      NaN  \n",
       "829  female  62.0      0      0  113572  80.0   B28      NaN  "
      ]
     },
     "execution_count": 213,
     "metadata": {},
     "output_type": "execute_result"
    }
   ],
   "source": [
    "data[data['Ticket'] == '113572']"
   ]
  },
  {
   "cell_type": "code",
   "execution_count": 9,
   "id": "0d0857fa",
   "metadata": {},
   "outputs": [],
   "source": [
    "a = list(data['Ticket'].unique())\n",
    "family = []\n",
    "no_family = []\n",
    "for ticket in a:\n",
    "    if ticket not in null_Embarked:\n",
    "        families = data[data['Ticket'] == ticket]\n",
    "        if len(families) > 1:\n",
    "            if len(families['Embarked'].unique()) == 1:\n",
    "                family.append(ticket)\n",
    "            else:\n",
    "                no_family.append(ticket)"
   ]
  },
  {
   "cell_type": "code",
   "execution_count": 215,
   "id": "cfce6f7e",
   "metadata": {},
   "outputs": [
    {
     "name": "stdout",
     "output_type": "stream",
     "text": [
      "Number of ticket ids shared by more than one passenger with same port of embarkation : 131\n",
      "Number of ticket ids shared by more than one passenger with different port of embarkation : 2\n"
     ]
    }
   ],
   "source": [
    "print('Number of ticket ids shared by more than one passenger with same port of embarkation :', len(family))\n",
    "print('Number of ticket ids shared by more than one passenger with different port of embarkation :', len(no_family))"
   ]
  },
  {
   "cell_type": "markdown",
   "id": "e10db5f2",
   "metadata": {},
   "source": [
    "## Number of Unique values in categorical features"
   ]
  },
  {
   "cell_type": "code",
   "execution_count": 216,
   "id": "d674d6e9",
   "metadata": {},
   "outputs": [],
   "source": [
    "columns = ['Survived', 'Pclass', 'Sex', 'Age', 'SibSp', 'Parch', 'Fare', 'Cabin', 'Embarked']\n",
    "data = data[columns]"
   ]
  },
  {
   "cell_type": "code",
   "execution_count": 217,
   "id": "6eefafa9",
   "metadata": {},
   "outputs": [
    {
     "data": {
      "text/plain": [
       "S    644\n",
       "C    168\n",
       "Q     77\n",
       "Name: Embarked, dtype: int64"
      ]
     },
     "execution_count": 217,
     "metadata": {},
     "output_type": "execute_result"
    }
   ],
   "source": [
    "data['Embarked'].value_counts()"
   ]
  },
  {
   "cell_type": "code",
   "execution_count": 219,
   "id": "7e0cba40",
   "metadata": {},
   "outputs": [
    {
     "data": {
      "text/plain": [
       "0    549\n",
       "1    342\n",
       "Name: Survived, dtype: int64"
      ]
     },
     "execution_count": 219,
     "metadata": {},
     "output_type": "execute_result"
    }
   ],
   "source": [
    "#The target variable is not highly imbalanced\n",
    "data['Survived'].value_counts()"
   ]
  },
  {
   "cell_type": "code",
   "execution_count": 220,
   "id": "f22a3b01",
   "metadata": {},
   "outputs": [
    {
     "data": {
      "text/plain": [
       "3    491\n",
       "1    216\n",
       "2    184\n",
       "Name: Pclass, dtype: int64"
      ]
     },
     "execution_count": 220,
     "metadata": {},
     "output_type": "execute_result"
    }
   ],
   "source": [
    "data['Pclass'].value_counts()"
   ]
  },
  {
   "cell_type": "code",
   "execution_count": 221,
   "id": "ad84aa97",
   "metadata": {},
   "outputs": [
    {
     "data": {
      "text/plain": [
       "male      577\n",
       "female    314\n",
       "Name: Sex, dtype: int64"
      ]
     },
     "execution_count": 221,
     "metadata": {},
     "output_type": "execute_result"
    }
   ],
   "source": [
    "data['Sex'].value_counts()"
   ]
  },
  {
   "cell_type": "code",
   "execution_count": 223,
   "id": "59cdc983",
   "metadata": {},
   "outputs": [
    {
     "data": {
      "text/plain": [
       "147"
      ]
     },
     "execution_count": 223,
     "metadata": {},
     "output_type": "execute_result"
    }
   ],
   "source": [
    "# Number of unique cabin ids\n",
    "len(data['Cabin'].value_counts())"
   ]
  },
  {
   "cell_type": "code",
   "execution_count": 17,
   "id": "270ce7c4",
   "metadata": {},
   "outputs": [],
   "source": [
    "b = list(data['Cabin'].unique())\n",
    "survived = {}\n",
    "no_people = {}\n",
    "for cabin in b:\n",
    "    members = data[data['Cabin'] == cabin]\n",
    "    no_people[cabin] = len(members)\n",
    "    survived[cabin] = len(members[members['Survived'] == 1])"
   ]
  },
  {
   "cell_type": "code",
   "execution_count": 224,
   "id": "6828e867",
   "metadata": {},
   "outputs": [
    {
     "data": {
      "text/plain": [
       "{nan: 0,\n",
       " 'C85': 1,\n",
       " 'C123': 2,\n",
       " 'E46': 1,\n",
       " 'G6': 4,\n",
       " 'C103': 1,\n",
       " 'D56': 1,\n",
       " 'A6': 1,\n",
       " 'C23 C25 C27': 4,\n",
       " 'B78': 1,\n",
       " 'D33': 2,\n",
       " 'B30': 1,\n",
       " 'C52': 2,\n",
       " 'B28': 2,\n",
       " 'C83': 2,\n",
       " 'F33': 3,\n",
       " 'F G73': 2,\n",
       " 'E31': 1,\n",
       " 'A5': 1,\n",
       " 'D10 D12': 1,\n",
       " 'D26': 2,\n",
       " 'C110': 1,\n",
       " 'B58 B60': 2,\n",
       " 'E101': 3,\n",
       " 'F E69': 1,\n",
       " 'D47': 1,\n",
       " 'B86': 1,\n",
       " 'F2': 3,\n",
       " 'C2': 2,\n",
       " 'E33': 2,\n",
       " 'B19': 1,\n",
       " 'A7': 1,\n",
       " 'C49': 1,\n",
       " 'F4': 2,\n",
       " 'A32': 1,\n",
       " 'B4': 1,\n",
       " 'B80': 1,\n",
       " 'A31': 1,\n",
       " 'D36': 2,\n",
       " 'D15': 1,\n",
       " 'C93': 2,\n",
       " 'C78': 2,\n",
       " 'D35': 2,\n",
       " 'C87': 1,\n",
       " 'B77': 2,\n",
       " 'E67': 2,\n",
       " 'B94': 1,\n",
       " 'C125': 2,\n",
       " 'C99': 1,\n",
       " 'C118': 1,\n",
       " 'D7': 1,\n",
       " 'A19': 1,\n",
       " 'B49': 2,\n",
       " 'D': 3,\n",
       " 'C22 C26': 3,\n",
       " 'C106': 1,\n",
       " 'C65': 2,\n",
       " 'E36': 1,\n",
       " 'C54': 1,\n",
       " 'B57 B59 B63 B66': 2,\n",
       " 'C7': 1,\n",
       " 'E34': 1,\n",
       " 'C32': 1,\n",
       " 'B18': 2,\n",
       " 'C124': 2,\n",
       " 'C91': 1,\n",
       " 'E40': 1,\n",
       " 'T': 1,\n",
       " 'C128': 1,\n",
       " 'D37': 1,\n",
       " 'B35': 2,\n",
       " 'E50': 1,\n",
       " 'C82': 1,\n",
       " 'B96 B98': 4,\n",
       " 'E10': 1,\n",
       " 'E44': 2,\n",
       " 'A34': 1,\n",
       " 'C104': 1,\n",
       " 'C111': 1,\n",
       " 'C92': 2,\n",
       " 'E38': 1,\n",
       " 'D21': 1,\n",
       " 'E12': 1,\n",
       " 'E63': 1,\n",
       " 'A14': 1,\n",
       " 'B37': 1,\n",
       " 'C30': 1,\n",
       " 'D20': 2,\n",
       " 'B79': 1,\n",
       " 'E25': 2,\n",
       " 'D46': 1,\n",
       " 'B73': 1,\n",
       " 'C95': 1,\n",
       " 'B38': 1,\n",
       " 'B39': 1,\n",
       " 'B22': 2,\n",
       " 'C86': 1,\n",
       " 'C70': 1,\n",
       " 'A16': 1,\n",
       " 'C101': 1,\n",
       " 'C68': 2,\n",
       " 'A10': 1,\n",
       " 'E68': 1,\n",
       " 'B41': 1,\n",
       " 'A20': 1,\n",
       " 'D19': 1,\n",
       " 'D50': 1,\n",
       " 'D9': 1,\n",
       " 'A23': 1,\n",
       " 'B50': 1,\n",
       " 'A26': 1,\n",
       " 'D48': 1,\n",
       " 'E58': 1,\n",
       " 'C126': 2,\n",
       " 'B71': 1,\n",
       " 'B51 B53 B55': 2,\n",
       " 'D49': 1,\n",
       " 'B5': 2,\n",
       " 'B20': 2,\n",
       " 'F G63': 1,\n",
       " 'C62 C64': 1,\n",
       " 'E24': 2,\n",
       " 'C90': 1,\n",
       " 'C45': 1,\n",
       " 'E8': 2,\n",
       " 'B101': 1,\n",
       " 'D45': 1,\n",
       " 'C46': 1,\n",
       " 'D30': 1,\n",
       " 'E121': 2,\n",
       " 'D11': 1,\n",
       " 'E77': 1,\n",
       " 'F38': 1,\n",
       " 'B3': 1,\n",
       " 'D6': 1,\n",
       " 'B82 B84': 1,\n",
       " 'D17': 2,\n",
       " 'A36': 1,\n",
       " 'B102': 1,\n",
       " 'B69': 1,\n",
       " 'E49': 1,\n",
       " 'C47': 1,\n",
       " 'D28': 1,\n",
       " 'E17': 1,\n",
       " 'A24': 1,\n",
       " 'C50': 1,\n",
       " 'B42': 1,\n",
       " 'C148': 1}"
      ]
     },
     "execution_count": 224,
     "metadata": {},
     "output_type": "execute_result"
    }
   ],
   "source": [
    "#Number of people in each cabin\n",
    "no_people"
   ]
  },
  {
   "cell_type": "code",
   "execution_count": 225,
   "id": "b2af9486",
   "metadata": {},
   "outputs": [
    {
     "data": {
      "text/plain": [
       "{nan: 0,\n",
       " 'C85': 1,\n",
       " 'C123': 1,\n",
       " 'E46': 0,\n",
       " 'G6': 2,\n",
       " 'C103': 1,\n",
       " 'D56': 1,\n",
       " 'A6': 1,\n",
       " 'C23 C25 C27': 2,\n",
       " 'B78': 1,\n",
       " 'D33': 2,\n",
       " 'B30': 0,\n",
       " 'C52': 2,\n",
       " 'B28': 2,\n",
       " 'C83': 1,\n",
       " 'F33': 3,\n",
       " 'F G73': 0,\n",
       " 'E31': 0,\n",
       " 'A5': 0,\n",
       " 'D10 D12': 1,\n",
       " 'D26': 0,\n",
       " 'C110': 0,\n",
       " 'B58 B60': 1,\n",
       " 'E101': 3,\n",
       " 'F E69': 1,\n",
       " 'D47': 1,\n",
       " 'B86': 0,\n",
       " 'F2': 2,\n",
       " 'C2': 1,\n",
       " 'E33': 2,\n",
       " 'B19': 0,\n",
       " 'A7': 0,\n",
       " 'C49': 0,\n",
       " 'F4': 2,\n",
       " 'A32': 0,\n",
       " 'B4': 1,\n",
       " 'B80': 1,\n",
       " 'A31': 1,\n",
       " 'D36': 2,\n",
       " 'D15': 1,\n",
       " 'C93': 2,\n",
       " 'C78': 1,\n",
       " 'D35': 2,\n",
       " 'C87': 0,\n",
       " 'B77': 2,\n",
       " 'E67': 1,\n",
       " 'B94': 0,\n",
       " 'C125': 2,\n",
       " 'C99': 1,\n",
       " 'C118': 0,\n",
       " 'D7': 1,\n",
       " 'A19': 0,\n",
       " 'B49': 2,\n",
       " 'D': 2,\n",
       " 'C22 C26': 1,\n",
       " 'C106': 1,\n",
       " 'C65': 1,\n",
       " 'E36': 1,\n",
       " 'C54': 1,\n",
       " 'B57 B59 B63 B66': 2,\n",
       " 'C7': 1,\n",
       " 'E34': 1,\n",
       " 'C32': 1,\n",
       " 'B18': 2,\n",
       " 'C124': 0,\n",
       " 'C91': 0,\n",
       " 'E40': 1,\n",
       " 'T': 0,\n",
       " 'C128': 0,\n",
       " 'D37': 1,\n",
       " 'B35': 2,\n",
       " 'E50': 1,\n",
       " 'C82': 0,\n",
       " 'B96 B98': 4,\n",
       " 'E10': 1,\n",
       " 'E44': 1,\n",
       " 'A34': 1,\n",
       " 'C104': 1,\n",
       " 'C111': 0,\n",
       " 'C92': 2,\n",
       " 'E38': 0,\n",
       " 'D21': 1,\n",
       " 'E12': 1,\n",
       " 'E63': 0,\n",
       " 'A14': 0,\n",
       " 'B37': 0,\n",
       " 'C30': 0,\n",
       " 'D20': 2,\n",
       " 'B79': 1,\n",
       " 'E25': 2,\n",
       " 'D46': 0,\n",
       " 'B73': 1,\n",
       " 'C95': 0,\n",
       " 'B38': 0,\n",
       " 'B39': 1,\n",
       " 'B22': 1,\n",
       " 'C86': 0,\n",
       " 'C70': 1,\n",
       " 'A16': 1,\n",
       " 'C101': 1,\n",
       " 'C68': 1,\n",
       " 'A10': 0,\n",
       " 'E68': 1,\n",
       " 'B41': 1,\n",
       " 'A20': 1,\n",
       " 'D19': 1,\n",
       " 'D50': 0,\n",
       " 'D9': 1,\n",
       " 'A23': 1,\n",
       " 'B50': 1,\n",
       " 'A26': 1,\n",
       " 'D48': 0,\n",
       " 'E58': 0,\n",
       " 'C126': 2,\n",
       " 'B71': 0,\n",
       " 'B51 B53 B55': 1,\n",
       " 'D49': 1,\n",
       " 'B5': 2,\n",
       " 'B20': 2,\n",
       " 'F G63': 0,\n",
       " 'C62 C64': 1,\n",
       " 'E24': 2,\n",
       " 'C90': 1,\n",
       " 'C45': 1,\n",
       " 'E8': 2,\n",
       " 'B101': 1,\n",
       " 'D45': 1,\n",
       " 'C46': 0,\n",
       " 'D30': 0,\n",
       " 'E121': 2,\n",
       " 'D11': 1,\n",
       " 'E77': 0,\n",
       " 'F38': 0,\n",
       " 'B3': 1,\n",
       " 'D6': 0,\n",
       " 'B82 B84': 0,\n",
       " 'D17': 2,\n",
       " 'A36': 0,\n",
       " 'B102': 0,\n",
       " 'B69': 1,\n",
       " 'E49': 1,\n",
       " 'C47': 1,\n",
       " 'D28': 1,\n",
       " 'E17': 1,\n",
       " 'A24': 0,\n",
       " 'C50': 1,\n",
       " 'B42': 1,\n",
       " 'C148': 1}"
      ]
     },
     "execution_count": 225,
     "metadata": {},
     "output_type": "execute_result"
    }
   ],
   "source": [
    "#Number of people who have survived in each cabin\n",
    "survived"
   ]
  },
  {
   "cell_type": "markdown",
   "id": "e8bf817f",
   "metadata": {},
   "source": [
    "## Exploratory Data Analysis"
   ]
  },
  {
   "cell_type": "code",
   "execution_count": 227,
   "id": "ea79c06c",
   "metadata": {},
   "outputs": [
    {
     "data": {
      "text/html": [
       "<div>\n",
       "<style scoped>\n",
       "    .dataframe tbody tr th:only-of-type {\n",
       "        vertical-align: middle;\n",
       "    }\n",
       "\n",
       "    .dataframe tbody tr th {\n",
       "        vertical-align: top;\n",
       "    }\n",
       "\n",
       "    .dataframe thead th {\n",
       "        text-align: right;\n",
       "    }\n",
       "</style>\n",
       "<table border=\"1\" class=\"dataframe\">\n",
       "  <thead>\n",
       "    <tr style=\"text-align: right;\">\n",
       "      <th></th>\n",
       "      <th>Survived</th>\n",
       "      <th>Pclass</th>\n",
       "      <th>Age</th>\n",
       "      <th>SibSp</th>\n",
       "      <th>Parch</th>\n",
       "      <th>Fare</th>\n",
       "    </tr>\n",
       "  </thead>\n",
       "  <tbody>\n",
       "    <tr>\n",
       "      <th>count</th>\n",
       "      <td>891.000000</td>\n",
       "      <td>891.000000</td>\n",
       "      <td>714.000000</td>\n",
       "      <td>891.000000</td>\n",
       "      <td>891.000000</td>\n",
       "      <td>891.000000</td>\n",
       "    </tr>\n",
       "    <tr>\n",
       "      <th>mean</th>\n",
       "      <td>0.383838</td>\n",
       "      <td>2.308642</td>\n",
       "      <td>29.699118</td>\n",
       "      <td>0.523008</td>\n",
       "      <td>0.381594</td>\n",
       "      <td>32.204208</td>\n",
       "    </tr>\n",
       "    <tr>\n",
       "      <th>std</th>\n",
       "      <td>0.486592</td>\n",
       "      <td>0.836071</td>\n",
       "      <td>14.526497</td>\n",
       "      <td>1.102743</td>\n",
       "      <td>0.806057</td>\n",
       "      <td>49.693429</td>\n",
       "    </tr>\n",
       "    <tr>\n",
       "      <th>min</th>\n",
       "      <td>0.000000</td>\n",
       "      <td>1.000000</td>\n",
       "      <td>0.420000</td>\n",
       "      <td>0.000000</td>\n",
       "      <td>0.000000</td>\n",
       "      <td>0.000000</td>\n",
       "    </tr>\n",
       "    <tr>\n",
       "      <th>25%</th>\n",
       "      <td>0.000000</td>\n",
       "      <td>2.000000</td>\n",
       "      <td>20.125000</td>\n",
       "      <td>0.000000</td>\n",
       "      <td>0.000000</td>\n",
       "      <td>7.910400</td>\n",
       "    </tr>\n",
       "    <tr>\n",
       "      <th>50%</th>\n",
       "      <td>0.000000</td>\n",
       "      <td>3.000000</td>\n",
       "      <td>28.000000</td>\n",
       "      <td>0.000000</td>\n",
       "      <td>0.000000</td>\n",
       "      <td>14.454200</td>\n",
       "    </tr>\n",
       "    <tr>\n",
       "      <th>75%</th>\n",
       "      <td>1.000000</td>\n",
       "      <td>3.000000</td>\n",
       "      <td>38.000000</td>\n",
       "      <td>1.000000</td>\n",
       "      <td>0.000000</td>\n",
       "      <td>31.000000</td>\n",
       "    </tr>\n",
       "    <tr>\n",
       "      <th>max</th>\n",
       "      <td>1.000000</td>\n",
       "      <td>3.000000</td>\n",
       "      <td>80.000000</td>\n",
       "      <td>8.000000</td>\n",
       "      <td>6.000000</td>\n",
       "      <td>512.329200</td>\n",
       "    </tr>\n",
       "  </tbody>\n",
       "</table>\n",
       "</div>"
      ],
      "text/plain": [
       "         Survived      Pclass         Age       SibSp       Parch        Fare\n",
       "count  891.000000  891.000000  714.000000  891.000000  891.000000  891.000000\n",
       "mean     0.383838    2.308642   29.699118    0.523008    0.381594   32.204208\n",
       "std      0.486592    0.836071   14.526497    1.102743    0.806057   49.693429\n",
       "min      0.000000    1.000000    0.420000    0.000000    0.000000    0.000000\n",
       "25%      0.000000    2.000000   20.125000    0.000000    0.000000    7.910400\n",
       "50%      0.000000    3.000000   28.000000    0.000000    0.000000   14.454200\n",
       "75%      1.000000    3.000000   38.000000    1.000000    0.000000   31.000000\n",
       "max      1.000000    3.000000   80.000000    8.000000    6.000000  512.329200"
      ]
     },
     "execution_count": 227,
     "metadata": {},
     "output_type": "execute_result"
    }
   ],
   "source": [
    "data.describe()"
   ]
  },
  {
   "cell_type": "code",
   "execution_count": 72,
   "id": "428437b1",
   "metadata": {},
   "outputs": [
    {
     "data": {
      "image/png": "[encoded data removed]",
      "text/plain": [
       "<Figure size 432x288 with 1 Axes>"
      ]
     },
     "metadata": {
      "needs_background": "light"
     },
     "output_type": "display_data"
    }
   ],
   "source": [
    "#Histogram of age\n",
    "sns.histplot(data = data, x = 'Age', kde = True, stat = 'probability')\n",
    "plt.savefig('a.png')"
   ]
  },
  {
   "cell_type": "code",
   "execution_count": 73,
   "id": "9491a578",
   "metadata": {},
   "outputs": [
    {
     "data": {
      "image/png": "[encoded data removed]",
      "text/plain": [
       "<Figure size 432x288 with 1 Axes>"
      ]
     },
     "metadata": {
      "needs_background": "light"
     },
     "output_type": "display_data"
    }
   ],
   "source": [
    "#Histogram of fare\n",
    "sns.histplot(data = data, x = 'Fare', kde = True, stat = 'probability')\n",
    "plt.savefig('a.png')"
   ]
  },
  {
   "cell_type": "code",
   "execution_count": 228,
   "id": "1a52452b",
   "metadata": {},
   "outputs": [
    {
     "data": {
      "text/plain": [
       "2    6\n",
       "1    5\n",
       "3    4\n",
       "Name: Pclass, dtype: int64"
      ]
     },
     "execution_count": 228,
     "metadata": {},
     "output_type": "execute_result"
    }
   ],
   "source": [
    "#Number of passengers in each class travelling with zero fares\n",
    "data[data['Fare'] == 0]['Pclass'].value_counts() "
   ]
  },
  {
   "cell_type": "markdown",
   "id": "c90e24c9",
   "metadata": {},
   "source": [
    "## Average ticket fares in each passenger class"
   ]
  },
  {
   "cell_type": "code",
   "execution_count": 229,
   "id": "0f4fc0c0",
   "metadata": {},
   "outputs": [
    {
     "data": {
      "text/plain": [
       "84.15468749999992"
      ]
     },
     "execution_count": 229,
     "metadata": {},
     "output_type": "execute_result"
    }
   ],
   "source": [
    "#Passenger class 1\n",
    "np.mean(data[data['Pclass'] == 1]['Fare'])"
   ]
  },
  {
   "cell_type": "code",
   "execution_count": 230,
   "id": "8740016e",
   "metadata": {},
   "outputs": [
    {
     "data": {
      "text/plain": [
       "20.66218315217391"
      ]
     },
     "execution_count": 230,
     "metadata": {},
     "output_type": "execute_result"
    }
   ],
   "source": [
    "#Passenger class 2\n",
    "np.mean(data[data['Pclass'] == 2]['Fare'])"
   ]
  },
  {
   "cell_type": "code",
   "execution_count": 231,
   "id": "73ae6862",
   "metadata": {},
   "outputs": [
    {
     "data": {
      "text/plain": [
       "13.675550101832997"
      ]
     },
     "execution_count": 231,
     "metadata": {},
     "output_type": "execute_result"
    }
   ],
   "source": [
    "#Passenger class 3\n",
    "np.mean(data[data['Pclass'] == 3]['Fare'])"
   ]
  },
  {
   "cell_type": "markdown",
   "id": "647bd656",
   "metadata": {},
   "source": [
    "All the 3rd class ticket fares are <70. For fares >70, 100/105 passengers belong to the first class. 15 passengers have travelled with zero fares. This shows that the features Fare and Passenger class are highly correlated"
   ]
  },
  {
   "cell_type": "code",
   "execution_count": 232,
   "id": "e858ff9f",
   "metadata": {},
   "outputs": [
    {
     "data": {
      "image/png": "[encoded data removed]",
      "text/plain": [
       "<Figure size 432x288 with 1 Axes>"
      ]
     },
     "metadata": {
      "needs_background": "light"
     },
     "output_type": "display_data"
    }
   ],
   "source": [
    "#Barplot between survival rate and passenger class\n",
    "sns.barplot(x = \"Pclass\", y = 'Survived', data = data)\n",
    "plt.savefig('a.png')"
   ]
  },
  {
   "cell_type": "code",
   "execution_count": 233,
   "id": "9c24c48c",
   "metadata": {},
   "outputs": [
    {
     "data": {
      "image/png": "[encoded data removed]",
      "text/plain": [
       "<Figure size 432x288 with 1 Axes>"
      ]
     },
     "metadata": {
      "needs_background": "light"
     },
     "output_type": "display_data"
    }
   ],
   "source": [
    "#Barplot between survival rate and sex\n",
    "sns.barplot(x = \"Sex\", y = 'Survived', data = data)\n",
    "plt.savefig('a.png')"
   ]
  },
  {
   "cell_type": "code",
   "execution_count": 234,
   "id": "a6779c7c",
   "metadata": {},
   "outputs": [
    {
     "data": {
      "image/png": "[encoded data removed]",
      "text/plain": [
       "<Figure size 432x288 with 1 Axes>"
      ]
     },
     "metadata": {
      "needs_background": "light"
     },
     "output_type": "display_data"
    }
   ],
   "source": [
    "#Barplot between survival rate and passenger class conditioned on gender\n",
    "sns.barplot(x = \"Pclass\", y = 'Survived', hue = 'Sex', data = data)\n",
    "plt.savefig('a.png')"
   ]
  },
  {
   "cell_type": "markdown",
   "id": "51c54e4c",
   "metadata": {},
   "source": [
    "## Discretization of age"
   ]
  },
  {
   "cell_type": "code",
   "execution_count": 235,
   "id": "e5a2c2a6",
   "metadata": {},
   "outputs": [],
   "source": [
    "age_1 = data[data['Age'] >= 48] #greater than 48\n",
    "age_2 = data[data['Age'] <= 15] # less than 15\n",
    "temp = data[data['Age'] > 15]\n",
    "age_3 = temp[temp['Age'] < 48] # between 15 and 48"
   ]
  },
  {
   "cell_type": "code",
   "execution_count": 239,
   "id": "2f1ca090",
   "metadata": {},
   "outputs": [
    {
     "data": {
      "image/png": "[encoded data removed]",
      "text/plain": [
       "<Figure size 432x288 with 1 Axes>"
      ]
     },
     "metadata": {
      "needs_background": "light"
     },
     "output_type": "display_data"
    }
   ],
   "source": [
    "#greater than 48\n",
    "sns.barplot(x = \"Pclass\", y = 'Survived', hue = 'Sex', data = age_1)\n",
    "plt.savefig('a.png')"
   ]
  },
  {
   "cell_type": "code",
   "execution_count": 240,
   "id": "28382d56",
   "metadata": {},
   "outputs": [
    {
     "data": {
      "image/png": "[encoded data removed]",
      "text/plain": [
       "<Figure size 432x288 with 1 Axes>"
      ]
     },
     "metadata": {
      "needs_background": "light"
     },
     "output_type": "display_data"
    }
   ],
   "source": [
    "# less than 15\n",
    "sns.barplot(x = \"Pclass\", y = 'Survived', hue = 'Sex', data = age_2)\n",
    "plt.savefig('a.png')"
   ]
  },
  {
   "cell_type": "code",
   "execution_count": 241,
   "id": "502b16f2",
   "metadata": {},
   "outputs": [
    {
     "data": {
      "image/png": "[encoded data removed]",
      "text/plain": [
       "<Figure size 432x288 with 1 Axes>"
      ]
     },
     "metadata": {
      "needs_background": "light"
     },
     "output_type": "display_data"
    }
   ],
   "source": [
    "# between 15 and 48\n",
    "sns.barplot(x = \"Pclass\", y = 'Survived', hue = 'Sex', data = age_3)\n",
    "plt.savefig('a.png')"
   ]
  },
  {
   "cell_type": "markdown",
   "id": "a59f5851",
   "metadata": {},
   "source": [
    "## Data preparation"
   ]
  },
  {
   "cell_type": "code",
   "execution_count": 293,
   "id": "312a27a6",
   "metadata": {},
   "outputs": [],
   "source": [
    "df = data[['Survived', 'Pclass', 'Sex', 'Age', 'SibSp', 'Parch', 'Fare']]"
   ]
  },
  {
   "cell_type": "code",
   "execution_count": 294,
   "id": "c222faa2",
   "metadata": {},
   "outputs": [
    {
     "data": {
      "text/plain": [
       "<AxesSubplot:xlabel='Age', ylabel='Probability'>"
      ]
     },
     "execution_count": 294,
     "metadata": {},
     "output_type": "execute_result"
    },
    {
     "data": {
      "image/png": "[encoded data removed]",
      "text/plain": [
       "<Figure size 432x288 with 1 Axes>"
      ]
     },
     "metadata": {
      "needs_background": "light"
     },
     "output_type": "display_data"
    }
   ],
   "source": [
    "sns.histplot(data = df, x = 'Age', kde = True, stat = 'probability')"
   ]
  },
  {
   "cell_type": "code",
   "execution_count": 295,
   "id": "aebe2074",
   "metadata": {},
   "outputs": [
    {
     "data": {
      "text/plain": [
       "<AxesSubplot:xlabel='Age', ylabel='Probability'>"
      ]
     },
     "execution_count": 295,
     "metadata": {},
     "output_type": "execute_result"
    },
    {
     "data": {
      "image/png": "[encoded data removed]",
      "text/plain": [
       "<Figure size 432x288 with 1 Axes>"
      ]
     },
     "metadata": {
      "needs_background": "light"
     },
     "output_type": "display_data"
    }
   ],
   "source": [
    "#After removing outliers\n",
    "sns.histplot(data = df[df['Age'] >= 5], x = 'Age', kde = True, stat = 'probability')"
   ]
  },
  {
   "cell_type": "code",
   "execution_count": 296,
   "id": "016c7203",
   "metadata": {},
   "outputs": [
    {
     "name": "stderr",
     "output_type": "stream",
     "text": [
      "C:\\Users\\Vishal rishi M K\\Anaconda3\\lib\\site-packages\\seaborn\\distributions.py:2619: FutureWarning: `distplot` is a deprecated function and will be removed in a future version. Please adapt your code to use either `displot` (a figure-level function with similar flexibility) or `kdeplot` (an axes-level function for kernel density plots).\n",
      "  warnings.warn(msg, FutureWarning)\n"
     ]
    },
    {
     "data": {
      "image/png": "[encoded data removed]",
      "text/plain": [
       "<Figure size 432x288 with 1 Axes>"
      ]
     },
     "metadata": {
      "needs_background": "light"
     },
     "output_type": "display_data"
    }
   ],
   "source": [
    "#Box-cox transformation of Fare\n",
    "sns.distplot(scipy.stats.boxcox(df[df['Fare']>0]['Fare'])[0], hist = False, kde = True,\n",
    "            kde_kws = {'shade': True, 'linewidth': 2}, \n",
    "            label = \"Normal\", color =\"green\")\n",
    "plt.savefig('a.png')"
   ]
  },
  {
   "cell_type": "code",
   "execution_count": 297,
   "id": "bdc6c6da",
   "metadata": {},
   "outputs": [],
   "source": [
    "df_1 = df.dropna(subset = ['Age'])\n",
    "df_1 = df_1[df_1['Age'] >= 5] #remove outliers"
   ]
  },
  {
   "cell_type": "code",
   "execution_count": 298,
   "id": "92fd5eb0",
   "metadata": {},
   "outputs": [
    {
     "data": {
      "text/html": [
       "<div>\n",
       "<style scoped>\n",
       "    .dataframe tbody tr th:only-of-type {\n",
       "        vertical-align: middle;\n",
       "    }\n",
       "\n",
       "    .dataframe tbody tr th {\n",
       "        vertical-align: top;\n",
       "    }\n",
       "\n",
       "    .dataframe thead th {\n",
       "        text-align: right;\n",
       "    }\n",
       "</style>\n",
       "<table border=\"1\" class=\"dataframe\">\n",
       "  <thead>\n",
       "    <tr style=\"text-align: right;\">\n",
       "      <th></th>\n",
       "      <th>Survived</th>\n",
       "      <th>Pclass</th>\n",
       "      <th>Age</th>\n",
       "      <th>SibSp</th>\n",
       "      <th>Parch</th>\n",
       "      <th>Fare</th>\n",
       "    </tr>\n",
       "  </thead>\n",
       "  <tbody>\n",
       "    <tr>\n",
       "      <th>count</th>\n",
       "      <td>674.000000</td>\n",
       "      <td>674.000000</td>\n",
       "      <td>674.000000</td>\n",
       "      <td>674.000000</td>\n",
       "      <td>674.000000</td>\n",
       "      <td>674.000000</td>\n",
       "    </tr>\n",
       "    <tr>\n",
       "      <th>mean</th>\n",
       "      <td>0.390208</td>\n",
       "      <td>2.218101</td>\n",
       "      <td>31.327893</td>\n",
       "      <td>0.442136</td>\n",
       "      <td>0.375371</td>\n",
       "      <td>34.830149</td>\n",
       "    </tr>\n",
       "    <tr>\n",
       "      <th>std</th>\n",
       "      <td>0.488159</td>\n",
       "      <td>0.845352</td>\n",
       "      <td>13.268181</td>\n",
       "      <td>0.834119</td>\n",
       "      <td>0.837486</td>\n",
       "      <td>53.962957</td>\n",
       "    </tr>\n",
       "    <tr>\n",
       "      <th>min</th>\n",
       "      <td>0.000000</td>\n",
       "      <td>1.000000</td>\n",
       "      <td>5.000000</td>\n",
       "      <td>0.000000</td>\n",
       "      <td>0.000000</td>\n",
       "      <td>0.000000</td>\n",
       "    </tr>\n",
       "    <tr>\n",
       "      <th>25%</th>\n",
       "      <td>0.000000</td>\n",
       "      <td>1.000000</td>\n",
       "      <td>22.000000</td>\n",
       "      <td>0.000000</td>\n",
       "      <td>0.000000</td>\n",
       "      <td>8.050000</td>\n",
       "    </tr>\n",
       "    <tr>\n",
       "      <th>50%</th>\n",
       "      <td>0.000000</td>\n",
       "      <td>2.000000</td>\n",
       "      <td>29.000000</td>\n",
       "      <td>0.000000</td>\n",
       "      <td>0.000000</td>\n",
       "      <td>14.456250</td>\n",
       "    </tr>\n",
       "    <tr>\n",
       "      <th>75%</th>\n",
       "      <td>1.000000</td>\n",
       "      <td>3.000000</td>\n",
       "      <td>39.000000</td>\n",
       "      <td>1.000000</td>\n",
       "      <td>0.000000</td>\n",
       "      <td>33.375000</td>\n",
       "    </tr>\n",
       "    <tr>\n",
       "      <th>max</th>\n",
       "      <td>1.000000</td>\n",
       "      <td>3.000000</td>\n",
       "      <td>80.000000</td>\n",
       "      <td>5.000000</td>\n",
       "      <td>6.000000</td>\n",
       "      <td>512.329200</td>\n",
       "    </tr>\n",
       "  </tbody>\n",
       "</table>\n",
       "</div>"
      ],
      "text/plain": [
       "         Survived      Pclass         Age       SibSp       Parch        Fare\n",
       "count  674.000000  674.000000  674.000000  674.000000  674.000000  674.000000\n",
       "mean     0.390208    2.218101   31.327893    0.442136    0.375371   34.830149\n",
       "std      0.488159    0.845352   13.268181    0.834119    0.837486   53.962957\n",
       "min      0.000000    1.000000    5.000000    0.000000    0.000000    0.000000\n",
       "25%      0.000000    1.000000   22.000000    0.000000    0.000000    8.050000\n",
       "50%      0.000000    2.000000   29.000000    0.000000    0.000000   14.456250\n",
       "75%      1.000000    3.000000   39.000000    1.000000    0.000000   33.375000\n",
       "max      1.000000    3.000000   80.000000    5.000000    6.000000  512.329200"
      ]
     },
     "execution_count": 298,
     "metadata": {},
     "output_type": "execute_result"
    }
   ],
   "source": [
    "df_1.describe()"
   ]
  },
  {
   "cell_type": "code",
   "execution_count": 299,
   "id": "7effb107",
   "metadata": {},
   "outputs": [],
   "source": [
    "df_1['Sex'] = df_1[\"Sex\"].apply(lambda x: 1 if x == 'male' else 0)"
   ]
  },
  {
   "cell_type": "code",
   "execution_count": 300,
   "id": "039be5b7",
   "metadata": {},
   "outputs": [],
   "source": [
    "from sklearn.model_selection import train_test_split, cross_val_score\n",
    "X = df_1.iloc[:, 1:4]\n",
    "y = df_1.iloc[:, 0]\n",
    "X_train, X_test, y_train, y_test = train_test_split(X, y, test_size = 100, random_state = 42)"
   ]
  },
  {
   "cell_type": "code",
   "execution_count": 301,
   "id": "52fff704",
   "metadata": {},
   "outputs": [],
   "source": [
    "# mean_age = np.mean(X_train['Age'])\n",
    "# std_age = np.std(X_train['Age'])\n",
    "# X_train['Age'] = X_train['Age'].apply(lambda x: (x - mean_age)/std_age)\n",
    "# X_test['Age'] = X_test['Age'].apply(lambda x: (x - mean_age)/std_age)"
   ]
  },
  {
   "cell_type": "code",
   "execution_count": 302,
   "id": "ee8769b3",
   "metadata": {},
   "outputs": [],
   "source": [
    "#Logistic regression model 2\n",
    "from sklearn.linear_model import LogisticRegression\n",
    "log = LogisticRegression(penalty = 'l1', solver = 'liblinear')"
   ]
  },
  {
   "cell_type": "code",
   "execution_count": 303,
   "id": "5aaa55d5",
   "metadata": {},
   "outputs": [],
   "source": [
    "scores = cross_val_score(log, X_train, y_train, scoring = 'f1', cv = 10)"
   ]
  },
  {
   "cell_type": "code",
   "execution_count": 304,
   "id": "97809ebf",
   "metadata": {},
   "outputs": [
    {
     "name": "stdout",
     "output_type": "stream",
     "text": [
      "Cross validation scores : [0.65116279 0.77272727 0.58536585 0.72340426 0.63636364 0.73170732\n",
      " 0.8        0.7804878  0.76923077 0.74418605]\n",
      "Mean F1 score : 0.7194635746459885\n",
      "Standard deviation 0.06771506633446006\n"
     ]
    }
   ],
   "source": [
    "print('Cross validation scores :', scores)\n",
    "print('Mean F1 score :', scores.mean())\n",
    "print('Standard deviation', scores.std())"
   ]
  },
  {
   "cell_type": "code",
   "execution_count": 305,
   "id": "28668cd3",
   "metadata": {},
   "outputs": [
    {
     "data": {
      "text/plain": [
       "LogisticRegression(penalty='l1', solver='liblinear')"
      ]
     },
     "execution_count": 305,
     "metadata": {},
     "output_type": "execute_result"
    }
   ],
   "source": [
    "log.fit(X_train, y_train)"
   ]
  },
  {
   "cell_type": "code",
   "execution_count": 306,
   "id": "eba27dc8",
   "metadata": {},
   "outputs": [],
   "source": [
    "y_pred_train = log.predict(X_train)\n",
    "y_pred_test = log.predict(X_test)"
   ]
  },
  {
   "cell_type": "code",
   "execution_count": 307,
   "id": "ba48d7f3",
   "metadata": {},
   "outputs": [
    {
     "name": "stdout",
     "output_type": "stream",
     "text": [
      "Confusion matrix : [[308  44]\n",
      " [ 69 153]]\n",
      "Precision : 0.7766497461928934\n",
      "Recall : 0.6891891891891891\n",
      "F1 score : 0.7303102625298329\n",
      "ROC AUC : 0.7820945945945945\n"
     ]
    }
   ],
   "source": [
    "#Train set\n",
    "from sklearn.metrics import confusion_matrix, precision_score, recall_score, f1_score, roc_curve, roc_auc_score\n",
    "print('Confusion matrix :', confusion_matrix(y_train, y_pred_train))\n",
    "print('Precision :', precision_score(y_train, y_pred_train))\n",
    "print('Recall :', recall_score(y_train, y_pred_train))\n",
    "print('F1 score :', f1_score(y_train, y_pred_train))\n",
    "print('ROC AUC :', roc_auc_score(y_train, y_pred_train))"
   ]
  },
  {
   "cell_type": "code",
   "execution_count": 308,
   "id": "3a91a0fe",
   "metadata": {},
   "outputs": [
    {
     "name": "stdout",
     "output_type": "stream",
     "text": [
      "Confusion matrix : [[48 11]\n",
      " [ 8 33]]\n",
      "Precision : 0.75\n",
      "Recall : 0.8048780487804879\n",
      "F1 score : 0.7764705882352942\n",
      "ROC AUC : 0.8092186854071931\n"
     ]
    }
   ],
   "source": [
    "#Test set\n",
    "print('Confusion matrix :', confusion_matrix(y_test, y_pred_test))\n",
    "print('Precision :', precision_score(y_test, y_pred_test))\n",
    "print('Recall :', recall_score(y_test, y_pred_test))\n",
    "print('F1 score :', f1_score(y_test, y_pred_test))\n",
    "print('ROC AUC :', roc_auc_score(y_test, y_pred_test))"
   ]
  },
  {
   "cell_type": "code",
   "execution_count": 309,
   "id": "0333f6d2",
   "metadata": {},
   "outputs": [
    {
     "data": {
      "image/png": "[encoded data removed]",
      "text/plain": [
       "<Figure size 432x288 with 1 Axes>"
      ]
     },
     "metadata": {
      "needs_background": "light"
     },
     "output_type": "display_data"
    }
   ],
   "source": [
    "ft,tt,t1=roc_curve(y_train,y_pred_train)\n",
    "fte,tte,t2=roc_curve(y_test,y_pred_test)\n",
    "plt.plot(ft,tt,linewidth=2,label='Train ROC curve')\n",
    "plt.plot(fte,tte,linewidth=2,label='Test ROC curve')\n",
    "plt.plot([0,1],[0,1],'--')\n",
    "plt.xlabel('False Positive Rate (1 - specificity)')\n",
    "plt.ylabel('Recall')\n",
    "plt.title('ROC curve for the train and test sets')\n",
    "plt.legend()\n",
    "plt.savefig('a.png')"
   ]
  },
  {
   "cell_type": "markdown",
   "id": "4605dedf",
   "metadata": {},
   "source": [
    "## Feature transforms"
   ]
  },
  {
   "cell_type": "code",
   "execution_count": 264,
   "id": "caec89ef",
   "metadata": {
    "collapsed": true
   },
   "outputs": [
    {
     "name": "stderr",
     "output_type": "stream",
     "text": [
      "C:\\Users\\Vishal rishi M K\\AppData\\Roaming\\Python\\Python37\\site-packages\\ipykernel_launcher.py:2: SettingWithCopyWarning: \n",
      "A value is trying to be set on a copy of a slice from a DataFrame.\n",
      "Try using .loc[row_indexer,col_indexer] = value instead\n",
      "\n",
      "See the caveats in the documentation: https://pandas.pydata.org/pandas-docs/stable/user_guide/indexing.html#returning-a-view-versus-a-copy\n",
      "  \n"
     ]
    }
   ],
   "source": [
    "df_2 = df.dropna(subset = ['Age'])\n",
    "df_2['Sex'] = df_2[\"Sex\"].apply(lambda x: 1 if x == 'male' else 0)"
   ]
  },
  {
   "cell_type": "code",
   "execution_count": 265,
   "id": "155d57d4",
   "metadata": {},
   "outputs": [
    {
     "data": {
      "text/html": [
       "<div>\n",
       "<style scoped>\n",
       "    .dataframe tbody tr th:only-of-type {\n",
       "        vertical-align: middle;\n",
       "    }\n",
       "\n",
       "    .dataframe tbody tr th {\n",
       "        vertical-align: top;\n",
       "    }\n",
       "\n",
       "    .dataframe thead th {\n",
       "        text-align: right;\n",
       "    }\n",
       "</style>\n",
       "<table border=\"1\" class=\"dataframe\">\n",
       "  <thead>\n",
       "    <tr style=\"text-align: right;\">\n",
       "      <th></th>\n",
       "      <th>Survived</th>\n",
       "      <th>Pclass</th>\n",
       "      <th>Sex</th>\n",
       "      <th>Age</th>\n",
       "      <th>SibSp</th>\n",
       "      <th>Parch</th>\n",
       "      <th>Fare</th>\n",
       "    </tr>\n",
       "  </thead>\n",
       "  <tbody>\n",
       "    <tr>\n",
       "      <th>0</th>\n",
       "      <td>0</td>\n",
       "      <td>3</td>\n",
       "      <td>1</td>\n",
       "      <td>22.0</td>\n",
       "      <td>1</td>\n",
       "      <td>0</td>\n",
       "      <td>7.2500</td>\n",
       "    </tr>\n",
       "    <tr>\n",
       "      <th>1</th>\n",
       "      <td>1</td>\n",
       "      <td>1</td>\n",
       "      <td>0</td>\n",
       "      <td>38.0</td>\n",
       "      <td>1</td>\n",
       "      <td>0</td>\n",
       "      <td>71.2833</td>\n",
       "    </tr>\n",
       "    <tr>\n",
       "      <th>2</th>\n",
       "      <td>1</td>\n",
       "      <td>3</td>\n",
       "      <td>0</td>\n",
       "      <td>26.0</td>\n",
       "      <td>0</td>\n",
       "      <td>0</td>\n",
       "      <td>7.9250</td>\n",
       "    </tr>\n",
       "    <tr>\n",
       "      <th>3</th>\n",
       "      <td>1</td>\n",
       "      <td>1</td>\n",
       "      <td>0</td>\n",
       "      <td>35.0</td>\n",
       "      <td>1</td>\n",
       "      <td>0</td>\n",
       "      <td>53.1000</td>\n",
       "    </tr>\n",
       "    <tr>\n",
       "      <th>4</th>\n",
       "      <td>0</td>\n",
       "      <td>3</td>\n",
       "      <td>1</td>\n",
       "      <td>35.0</td>\n",
       "      <td>0</td>\n",
       "      <td>0</td>\n",
       "      <td>8.0500</td>\n",
       "    </tr>\n",
       "  </tbody>\n",
       "</table>\n",
       "</div>"
      ],
      "text/plain": [
       "   Survived  Pclass  Sex   Age  SibSp  Parch     Fare\n",
       "0         0       3    1  22.0      1      0   7.2500\n",
       "1         1       1    0  38.0      1      0  71.2833\n",
       "2         1       3    0  26.0      0      0   7.9250\n",
       "3         1       1    0  35.0      1      0  53.1000\n",
       "4         0       3    1  35.0      0      0   8.0500"
      ]
     },
     "execution_count": 265,
     "metadata": {},
     "output_type": "execute_result"
    }
   ],
   "source": [
    "df_2.head()"
   ]
  },
  {
   "cell_type": "code",
   "execution_count": 266,
   "id": "48097484",
   "metadata": {},
   "outputs": [],
   "source": [
    "def transform(x):\n",
    "    if x <= 15:\n",
    "        return 1\n",
    "    elif x < 30:\n",
    "        return 2\n",
    "    elif x < 48:\n",
    "        return 3\n",
    "    else:\n",
    "        return 4"
   ]
  },
  {
   "cell_type": "code",
   "execution_count": 267,
   "id": "882f04a5",
   "metadata": {},
   "outputs": [
    {
     "data": {
      "text/plain": [
       "2    301\n",
       "3    241\n",
       "4     89\n",
       "1     83\n",
       "Name: Age, dtype: int64"
      ]
     },
     "execution_count": 267,
     "metadata": {},
     "output_type": "execute_result"
    }
   ],
   "source": [
    "df_2['Age'].apply(transform).value_counts() #Discretizing age "
   ]
  },
  {
   "cell_type": "code",
   "execution_count": 268,
   "id": "f355d09e",
   "metadata": {
    "collapsed": true
   },
   "outputs": [
    {
     "name": "stderr",
     "output_type": "stream",
     "text": [
      "C:\\Users\\Vishal rishi M K\\AppData\\Roaming\\Python\\Python37\\site-packages\\ipykernel_launcher.py:1: SettingWithCopyWarning: \n",
      "A value is trying to be set on a copy of a slice from a DataFrame.\n",
      "Try using .loc[row_indexer,col_indexer] = value instead\n",
      "\n",
      "See the caveats in the documentation: https://pandas.pydata.org/pandas-docs/stable/user_guide/indexing.html#returning-a-view-versus-a-copy\n",
      "  \"\"\"Entry point for launching an IPython kernel.\n"
     ]
    }
   ],
   "source": [
    "df_2['Age'] = df_2['Age'].apply(transform)"
   ]
  },
  {
   "cell_type": "code",
   "execution_count": 269,
   "id": "8da1fb71",
   "metadata": {},
   "outputs": [],
   "source": [
    "from sklearn.model_selection import train_test_split, cross_val_score\n",
    "X = df_2.iloc[:, 1:4]\n",
    "y = df_2.iloc[:, 0]\n",
    "X_train, X_test, y_train, y_test = train_test_split(X, y, test_size = 100, random_state = 42)"
   ]
  },
  {
   "cell_type": "code",
   "execution_count": 270,
   "id": "be848745",
   "metadata": {},
   "outputs": [],
   "source": [
    "#Logistic regression model 3\n",
    "log = LogisticRegression(penalty = 'l1', solver = 'liblinear', C = 0.5)"
   ]
  },
  {
   "cell_type": "code",
   "execution_count": 271,
   "id": "3922948c",
   "metadata": {},
   "outputs": [],
   "source": [
    "scores = cross_val_score(log, X_train, y_train, scoring = 'f1', cv = 10)"
   ]
  },
  {
   "cell_type": "code",
   "execution_count": 272,
   "id": "2160f07d",
   "metadata": {},
   "outputs": [
    {
     "name": "stdout",
     "output_type": "stream",
     "text": [
      "Cross validation scores : [0.74418605 0.75       0.68       0.71111111 0.63829787 0.79166667\n",
      " 0.7755102  0.82608696 0.76       0.63636364]\n",
      "Mean F1 score : 0.7313222493596839\n",
      "Standard deviation 0.06051798004285127\n"
     ]
    }
   ],
   "source": [
    "print('Cross validation scores :', scores)\n",
    "print('Mean F1 score :', scores.mean())\n",
    "print('Standard deviation', scores.std())"
   ]
  },
  {
   "cell_type": "code",
   "execution_count": 273,
   "id": "321d4002",
   "metadata": {},
   "outputs": [
    {
     "data": {
      "text/plain": [
       "LogisticRegression(C=0.5, penalty='l1', solver='liblinear')"
      ]
     },
     "execution_count": 273,
     "metadata": {},
     "output_type": "execute_result"
    }
   ],
   "source": [
    "log.fit(X_train, y_train)"
   ]
  },
  {
   "cell_type": "code",
   "execution_count": 274,
   "id": "4f7c4c3d",
   "metadata": {},
   "outputs": [],
   "source": [
    "y_pred_train = log.predict(X_train)\n",
    "y_pred_test = log.predict(X_test)"
   ]
  },
  {
   "cell_type": "code",
   "execution_count": 276,
   "id": "c2a81d33",
   "metadata": {},
   "outputs": [
    {
     "name": "stdout",
     "output_type": "stream",
     "text": [
      "Confusion matrix : [[317  47]\n",
      " [ 76 174]]\n",
      "Precision : 0.7873303167420814\n",
      "Recall : 0.696\n",
      "F1 score : 0.7388535031847133\n",
      "ROC AUC : 0.7834395604395604\n"
     ]
    }
   ],
   "source": [
    "#Train set\n",
    "print('Confusion matrix :', confusion_matrix(y_train, y_pred_train))\n",
    "print('Precision :', precision_score(y_train, y_pred_train))\n",
    "print('Recall :', recall_score(y_train, y_pred_train))\n",
    "print('F1 score :', f1_score(y_train, y_pred_train))\n",
    "print('ROC AUC :', roc_auc_score(y_train, y_pred_train))"
   ]
  },
  {
   "cell_type": "code",
   "execution_count": 277,
   "id": "73d2d816",
   "metadata": {},
   "outputs": [
    {
     "name": "stdout",
     "output_type": "stream",
     "text": [
      "Confusion matrix : [[44 16]\n",
      " [15 25]]\n",
      "Precision : 0.6097560975609756\n",
      "Recall : 0.625\n",
      "F1 score : 0.6172839506172839\n",
      "ROC AUC : 0.6791666666666668\n"
     ]
    }
   ],
   "source": [
    "#Test set\n",
    "print('Confusion matrix :', confusion_matrix(y_test, y_pred_test))\n",
    "print('Precision :', precision_score(y_test, y_pred_test))\n",
    "print('Recall :', recall_score(y_test, y_pred_test))\n",
    "print('F1 score :', f1_score(y_test, y_pred_test))\n",
    "print('ROC AUC :', roc_auc_score(y_test, y_pred_test))"
   ]
  },
  {
   "cell_type": "code",
   "execution_count": 275,
   "id": "e9d3bb9a",
   "metadata": {},
   "outputs": [
    {
     "data": {
      "image/png": "[encoded data removed]",
      "text/plain": [
       "<Figure size 432x288 with 1 Axes>"
      ]
     },
     "metadata": {
      "needs_background": "light"
     },
     "output_type": "display_data"
    }
   ],
   "source": [
    "ft,tt,t1=roc_curve(y_train,y_pred_train)\n",
    "fte,tte,t2=roc_curve(y_test,y_pred_test)\n",
    "plt.plot(ft,tt,linewidth=2,label='Train ROC curve')\n",
    "plt.plot(fte,tte,linewidth=2,label='Test ROC curve')\n",
    "plt.plot([0,1],[0,1],'--')\n",
    "plt.xlabel('False Positive Rate (1 - specificity)')\n",
    "plt.ylabel('Recall')\n",
    "plt.title('ROC curve for the train and test sets')\n",
    "plt.legend()\n",
    "plt.savefig('a.png')"
   ]
  },
  {
   "cell_type": "markdown",
   "id": "9745b731",
   "metadata": {},
   "source": [
    "## Feature importance :"
   ]
  },
  {
   "cell_type": "code",
   "execution_count": 278,
   "id": "32291bd2",
   "metadata": {},
   "outputs": [],
   "source": [
    "from sklearn.inspection import permutation_importance"
   ]
  },
  {
   "cell_type": "code",
   "execution_count": 282,
   "id": "eaa42895",
   "metadata": {},
   "outputs": [
    {
     "name": "stdout",
     "output_type": "stream",
     "text": [
      "Sex     0.350 +/- 0.014\n",
      "Pclass  0.027 +/- 0.008\n",
      "Age     0.008 +/- 0.008\n"
     ]
    }
   ],
   "source": [
    "# Perform feature importance analysis using sklearn's permutation importance\n",
    "# Display the important features \n",
    "result_train=permutation_importance(log,X_train,y_train,random_state=0,n_jobs=-1, scoring = 'f1', n_repeats = 10)\n",
    "features_train=[]\n",
    "for i in result_train.importances_mean.argsort()[::-1][:10]:\n",
    "    features_train.append(X_train.columns[i])\n",
    "    print(f\"{X.columns[i]:<8}\"\n",
    "          f\"{result_train.importances_mean[i]:.3f}\"\n",
    "          f\" +/- {result_train.importances_std[i]:.3f}\")"
   ]
  },
  {
   "cell_type": "code",
   "execution_count": 283,
   "id": "460cadf0",
   "metadata": {},
   "outputs": [
    {
     "name": "stdout",
     "output_type": "stream",
     "text": [
      "Sex     0.223 +/- 0.033\n",
      "Pclass  0.040 +/- 0.027\n",
      "Age     0.002 +/- 0.017\n"
     ]
    }
   ],
   "source": [
    "# Perform feature importance analysis using sklearn's permutation importance\n",
    "# Display the important features \n",
    "result_test=permutation_importance(log,X_test,y_test,random_state=0,n_jobs=-1, scoring = 'f1', n_repeats = 10)\n",
    "features_test=[]\n",
    "for i in result_test.importances_mean.argsort()[::-1][:10]:\n",
    "    features_test.append(X_test.columns[i])\n",
    "    print(f\"{X.columns[i]:<8}\"\n",
    "          f\"{result_test.importances_mean[i]:.3f}\"\n",
    "          f\" +/- {result_test.importances_std[i]:.3f}\")"
   ]
  },
  {
   "cell_type": "code",
   "execution_count": 284,
   "id": "5082b637",
   "metadata": {},
   "outputs": [],
   "source": [
    "# Calculate the relative importance of the features\n",
    "rel_importance_train = sorted(result_train.importances_mean/max(result_train.importances_mean),reverse=True)\n",
    "rel_importance_test = sorted(result_test.importances_mean/max(result_test.importances_mean),reverse=True)"
   ]
  },
  {
   "cell_type": "code",
   "execution_count": 285,
   "id": "08d77e29",
   "metadata": {},
   "outputs": [
    {
     "data": {
      "image/png": "[encoded data removed]",
      "text/plain": [
       "<Figure size 432x288 with 1 Axes>"
      ]
     },
     "metadata": {
      "needs_background": "light"
     },
     "output_type": "display_data"
    }
   ],
   "source": [
    "# Bar plot showing the relative importance of the top ten features\n",
    "plt.bar(features_train,rel_importance_train[:10])\n",
    "plt.ylabel('Relative Importance')\n",
    "plt.title('Bar plot showing the relative importance of the features')\n",
    "plt.savefig('a.png')"
   ]
  },
  {
   "cell_type": "code",
   "execution_count": 286,
   "id": "c95d5c40",
   "metadata": {},
   "outputs": [
    {
     "data": {
      "image/png": "[encoded data removed]",
      "text/plain": [
       "<Figure size 432x288 with 1 Axes>"
      ]
     },
     "metadata": {
      "needs_background": "light"
     },
     "output_type": "display_data"
    }
   ],
   "source": [
    "# Bar plot showing the relative importance of the top ten features\n",
    "plt.bar(features_test,rel_importance_test[:10])\n",
    "plt.ylabel('Relative Importance')\n",
    "plt.title('Bar plot showing the relative importance of the features')\n",
    "plt.savefig('a.png')"
   ]
  },
  {
   "cell_type": "markdown",
   "id": "2b62983d",
   "metadata": {},
   "source": [
    "## Bootstrap aggregating"
   ]
  },
  {
   "cell_type": "code",
   "execution_count": 287,
   "id": "d69d66b7",
   "metadata": {},
   "outputs": [],
   "source": [
    "from scipy.stats import sem, t\n",
    "from scipy import mean\n",
    "\n",
    "def progressbar(n_step, n_total):\n",
    "    \"\"\"Prints self-updating progress bar to stdout to track for-loop progress\n",
    "    \n",
    "    There are entire 3rd-party libraries dedicated to custom progress-bars.\n",
    "    A simple function like this is often more than enough to get the job done.\n",
    "    \n",
    "    :param n_total: total number of expected for-loop iterations\n",
    "    :type n_total: int\n",
    "    :param n_step: current iteration number, starting at 0\n",
    "    :type n_step: int\n",
    "\n",
    "    .. example::\n",
    "    \n",
    "        for i in range(n_iterations):\n",
    "            progressbar(i, n_iterations)\n",
    "            \n",
    "    .. source:\n",
    "    \n",
    "        This function is a simplified version of code found here:\n",
    "        https://stackoverflow.com/questions/3160699/python-progress-bar/15860757#15860757\n",
    "    \"\"\"\n",
    "    n_step = n_step + 1\n",
    "    barlen = 50\n",
    "    progress = n_step / n_total\n",
    "    block = int(round(barlen * progress))\n",
    "    status = \"\"\n",
    "    if n_step == n_total:\n",
    "        status = \"Done...\\r\\n\\n\"\n",
    "    text = \"\\r [{0}] {1}/{2} {3}\".format(\n",
    "        \"=\" * block + \"-\" * (barlen - block),\n",
    "        n_step,\n",
    "        n_total,\n",
    "        status,\n",
    "    )\n",
    "    sys.stdout.write(text)\n",
    "    sys.stdout.flush()\n",
    "    \n",
    "def create_log():\n",
    "    log = LogisticRegression(penalty = 'l1', solver = 'liblinear')\n",
    "    return log\n",
    "\n",
    "# Function to compute the confidence intervals\n",
    "def confidence_interval(data,confidence=0.95):\n",
    "    n=len(data)\n",
    "    m=np.mean(data)\n",
    "    std_err=sem(data)\n",
    "    h=std_err*t.ppf((1+confidence)/2,n-1)\n",
    "    start = m - h\n",
    "    end = m + h\n",
    "    return (start, end)\n",
    "\n",
    "def observe(arr,ppr,band):\n",
    "    new_arr=[]\n",
    "    for i in range(len(ppr)):\n",
    "        if (ppr[i] < band[0]) or (ppr[i] > band[1]):\n",
    "            new_arr.append(arr[i])\n",
    "    return new_arr"
   ]
  },
  {
   "cell_type": "code",
   "execution_count": 165,
   "id": "ab26c10e",
   "metadata": {},
   "outputs": [
    {
     "name": "stdout",
     "output_type": "stream",
     "text": [
      " [==================================================] 2000/2000 Done...\n",
      "\n"
     ]
    }
   ],
   "source": [
    "# Create the bootstrap aggregating model with 2000 bootstraps\n",
    "bootstrap = 2000\n",
    "delay_probability=[]\n",
    "for boot in range(bootstrap):\n",
    "    X_boot,y_boot=resample(X_train,y_train,random_state=42)\n",
    "    log=create_log()\n",
    "    log.fit(X_boot,y_boot)\n",
    "    delay_probability.append(log.predict_proba(X_test)[:,-1])\n",
    "    progressbar(boot,bootstrap)"
   ]
  },
  {
   "cell_type": "code",
   "execution_count": 166,
   "id": "df2d44b7",
   "metadata": {},
   "outputs": [],
   "source": [
    "histogram=[]\n",
    "for i in range(100):\n",
    "    a=[]\n",
    "    for j in range(bootstrap):\n",
    "        a.append(delay_probability[j][i])\n",
    "    histogram.append(a)"
   ]
  },
  {
   "cell_type": "code",
   "execution_count": 167,
   "id": "d8129308",
   "metadata": {},
   "outputs": [
    {
     "data": {
      "text/plain": [
       "100"
      ]
     },
     "execution_count": 167,
     "metadata": {},
     "output_type": "execute_result"
    }
   ],
   "source": [
    "len(histogram)"
   ]
  },
  {
   "cell_type": "code",
   "execution_count": 176,
   "id": "f109365d",
   "metadata": {},
   "outputs": [
    {
     "data": {
      "image/png": "[encoded data removed]",
      "text/plain": [
       "<Figure size 1440x1440 with 8 Axes>"
      ]
     },
     "metadata": {
      "needs_background": "light"
     },
     "output_type": "display_data"
    }
   ],
   "source": [
    "fig,axes=plt.subplots(2,4,figsize=(20,20))\n",
    "fig.suptitle('Distribution of predicted probabilities (2000 bootstrapped probabilites) with the 95% CI bounds',fontsize=16)\n",
    "num = 8\n",
    "for ax in axes.ravel():\n",
    "    interval=confidence_interval(histogram[num])\n",
    "    ax.hist(histogram[num],bins=15)\n",
    "    ax.set_xlabel('Probability of survival')\n",
    "    ax.set_title(f'Ground truth: {y_test.iloc[num]}')\n",
    "    ax.set_ylabel(f'Confidence interval: ({interval[0]},{interval[1]})')\n",
    "    ax.axvline(interval[0],color='r',linestyle='dashed',linewidth=1)\n",
    "    ax.axvline(interval[1],color='r',linestyle='dashed',linewidth=1)\n",
    "    num+=1\n",
    "plt.savefig('a.png')"
   ]
  },
  {
   "cell_type": "markdown",
   "id": "5fd30760",
   "metadata": {},
   "source": [
    "## Interpretation :\n",
    "Bootstrapping is a popular ensemble learning technique which improves generalization. From the confidence intervals of these observations, we can see that the predicted probabilities concur with the ground truth. Increasing the number of bootstraps will increase the confidence of the model's prediction."
   ]
  },
  {
   "cell_type": "code",
   "execution_count": 169,
   "id": "59970346",
   "metadata": {},
   "outputs": [],
   "source": [
    "thresh = 0.3\n",
    "PPR=[]\n",
    "soft_predictions=[]\n",
    "for obs in histogram:\n",
    "    if np.array(obs).mean()>thresh:\n",
    "        soft_predictions.append(1)\n",
    "    else:\n",
    "        soft_predictions.append(0)"
   ]
  },
  {
   "cell_type": "code",
   "execution_count": 170,
   "id": "7065676c",
   "metadata": {},
   "outputs": [
    {
     "name": "stdout",
     "output_type": "stream",
     "text": [
      "The test F1 score obtained from bootstrapping: 0.8041237113402062\n"
     ]
    }
   ],
   "source": [
    "print(f'The test F1 score obtained from bootstrapping: {f1_score(y_test,soft_predictions)}') "
   ]
  },
  {
   "cell_type": "code",
   "execution_count": 171,
   "id": "7d5c3504",
   "metadata": {},
   "outputs": [],
   "source": [
    "def metric(hist, thresh, truth):\n",
    "    soft_predictions = []\n",
    "    for obs in histogram:\n",
    "        if np.array(obs).mean()>thresh:\n",
    "            soft_predictions.append(1)\n",
    "        else:\n",
    "            soft_predictions.append(0)\n",
    "    return [precision_score(truth, soft_predictions), recall_score(truth, soft_predictions), f1_score(truth, soft_predictions)]"
   ]
  },
  {
   "cell_type": "code",
   "execution_count": 172,
   "id": "6086a07e",
   "metadata": {},
   "outputs": [],
   "source": [
    "threshold = [i/10 for i in range(1, 10)]\n",
    "precision = []\n",
    "recall = []\n",
    "f1 = []\n",
    "for thresh in threshold:\n",
    "    a, b, c = metric(histogram, thresh, y_test)\n",
    "    precision.append(a)\n",
    "    recall.append(b)\n",
    "    f1.append(c)"
   ]
  },
  {
   "cell_type": "code",
   "execution_count": 174,
   "id": "df619c40",
   "metadata": {},
   "outputs": [
    {
     "data": {
      "image/png": "[encoded data removed]",
      "text/plain": [
       "<Figure size 432x288 with 1 Axes>"
      ]
     },
     "metadata": {
      "needs_background": "light"
     },
     "output_type": "display_data"
    }
   ],
   "source": [
    "plt.plot(threshold, precision, linewidth=2, label='Test Precision curve')\n",
    "plt.plot(threshold, recall, linewidth=2, label='Test Recall curve')\n",
    "plt.plot(threshold, f1, linewidth=2, label='Test F1 curve')\n",
    "#plt.plot([0,1],[0,1],'--')\n",
    "plt.xlabel('Threshold')\n",
    "plt.ylabel('Score')\n",
    "plt.title('Precision, Recall, F1 curve for test set with different threshold')\n",
    "plt.legend()\n",
    "plt.savefig('a.png')"
   ]
  },
  {
   "cell_type": "markdown",
   "id": "fed04c7d",
   "metadata": {},
   "source": [
    "## Predicting on the test set using Model 2"
   ]
  },
  {
   "cell_type": "code",
   "execution_count": 288,
   "id": "8de3bb36",
   "metadata": {},
   "outputs": [],
   "source": [
    "test = pd.read_csv('test.csv')"
   ]
  },
  {
   "cell_type": "code",
   "execution_count": 290,
   "id": "65fcd538",
   "metadata": {},
   "outputs": [
    {
     "data": {
      "text/html": [
       "<div>\n",
       "<style scoped>\n",
       "    .dataframe tbody tr th:only-of-type {\n",
       "        vertical-align: middle;\n",
       "    }\n",
       "\n",
       "    .dataframe tbody tr th {\n",
       "        vertical-align: top;\n",
       "    }\n",
       "\n",
       "    .dataframe thead th {\n",
       "        text-align: right;\n",
       "    }\n",
       "</style>\n",
       "<table border=\"1\" class=\"dataframe\">\n",
       "  <thead>\n",
       "    <tr style=\"text-align: right;\">\n",
       "      <th></th>\n",
       "      <th>PassengerId</th>\n",
       "      <th>Pclass</th>\n",
       "      <th>Name</th>\n",
       "      <th>Sex</th>\n",
       "      <th>Age</th>\n",
       "      <th>SibSp</th>\n",
       "      <th>Parch</th>\n",
       "      <th>Ticket</th>\n",
       "      <th>Fare</th>\n",
       "      <th>Cabin</th>\n",
       "      <th>Embarked</th>\n",
       "    </tr>\n",
       "  </thead>\n",
       "  <tbody>\n",
       "    <tr>\n",
       "      <th>0</th>\n",
       "      <td>892</td>\n",
       "      <td>3</td>\n",
       "      <td>Kelly, Mr. James</td>\n",
       "      <td>male</td>\n",
       "      <td>34.5</td>\n",
       "      <td>0</td>\n",
       "      <td>0</td>\n",
       "      <td>330911</td>\n",
       "      <td>7.8292</td>\n",
       "      <td>NaN</td>\n",
       "      <td>Q</td>\n",
       "    </tr>\n",
       "    <tr>\n",
       "      <th>1</th>\n",
       "      <td>893</td>\n",
       "      <td>3</td>\n",
       "      <td>Wilkes, Mrs. James (Ellen Needs)</td>\n",
       "      <td>female</td>\n",
       "      <td>47.0</td>\n",
       "      <td>1</td>\n",
       "      <td>0</td>\n",
       "      <td>363272</td>\n",
       "      <td>7.0000</td>\n",
       "      <td>NaN</td>\n",
       "      <td>S</td>\n",
       "    </tr>\n",
       "    <tr>\n",
       "      <th>2</th>\n",
       "      <td>894</td>\n",
       "      <td>2</td>\n",
       "      <td>Myles, Mr. Thomas Francis</td>\n",
       "      <td>male</td>\n",
       "      <td>62.0</td>\n",
       "      <td>0</td>\n",
       "      <td>0</td>\n",
       "      <td>240276</td>\n",
       "      <td>9.6875</td>\n",
       "      <td>NaN</td>\n",
       "      <td>Q</td>\n",
       "    </tr>\n",
       "    <tr>\n",
       "      <th>3</th>\n",
       "      <td>895</td>\n",
       "      <td>3</td>\n",
       "      <td>Wirz, Mr. Albert</td>\n",
       "      <td>male</td>\n",
       "      <td>27.0</td>\n",
       "      <td>0</td>\n",
       "      <td>0</td>\n",
       "      <td>315154</td>\n",
       "      <td>8.6625</td>\n",
       "      <td>NaN</td>\n",
       "      <td>S</td>\n",
       "    </tr>\n",
       "    <tr>\n",
       "      <th>4</th>\n",
       "      <td>896</td>\n",
       "      <td>3</td>\n",
       "      <td>Hirvonen, Mrs. Alexander (Helga E Lindqvist)</td>\n",
       "      <td>female</td>\n",
       "      <td>22.0</td>\n",
       "      <td>1</td>\n",
       "      <td>1</td>\n",
       "      <td>3101298</td>\n",
       "      <td>12.2875</td>\n",
       "      <td>NaN</td>\n",
       "      <td>S</td>\n",
       "    </tr>\n",
       "  </tbody>\n",
       "</table>\n",
       "</div>"
      ],
      "text/plain": [
       "   PassengerId  Pclass                                          Name     Sex  \\\n",
       "0          892       3                              Kelly, Mr. James    male   \n",
       "1          893       3              Wilkes, Mrs. James (Ellen Needs)  female   \n",
       "2          894       2                     Myles, Mr. Thomas Francis    male   \n",
       "3          895       3                              Wirz, Mr. Albert    male   \n",
       "4          896       3  Hirvonen, Mrs. Alexander (Helga E Lindqvist)  female   \n",
       "\n",
       "    Age  SibSp  Parch   Ticket     Fare Cabin Embarked  \n",
       "0  34.5      0      0   330911   7.8292   NaN        Q  \n",
       "1  47.0      1      0   363272   7.0000   NaN        S  \n",
       "2  62.0      0      0   240276   9.6875   NaN        Q  \n",
       "3  27.0      0      0   315154   8.6625   NaN        S  \n",
       "4  22.0      1      1  3101298  12.2875   NaN        S  "
      ]
     },
     "execution_count": 290,
     "metadata": {},
     "output_type": "execute_result"
    }
   ],
   "source": [
    "test.head()"
   ]
  },
  {
   "cell_type": "code",
   "execution_count": 292,
   "id": "219d11f2",
   "metadata": {},
   "outputs": [
    {
     "name": "stdout",
     "output_type": "stream",
     "text": [
      "<class 'pandas.core.frame.DataFrame'>\n",
      "RangeIndex: 418 entries, 0 to 417\n",
      "Data columns (total 11 columns):\n",
      " #   Column       Non-Null Count  Dtype  \n",
      "---  ------       --------------  -----  \n",
      " 0   PassengerId  418 non-null    int64  \n",
      " 1   Pclass       418 non-null    int64  \n",
      " 2   Name         418 non-null    object \n",
      " 3   Sex          418 non-null    object \n",
      " 4   Age          332 non-null    float64\n",
      " 5   SibSp        418 non-null    int64  \n",
      " 6   Parch        418 non-null    int64  \n",
      " 7   Ticket       418 non-null    object \n",
      " 8   Fare         417 non-null    float64\n",
      " 9   Cabin        91 non-null     object \n",
      " 10  Embarked     418 non-null    object \n",
      "dtypes: float64(2), int64(4), object(5)\n",
      "memory usage: 36.0+ KB\n"
     ]
    }
   ],
   "source": [
    "test.info()"
   ]
  },
  {
   "cell_type": "code",
   "execution_count": 311,
   "id": "f6699020",
   "metadata": {},
   "outputs": [],
   "source": [
    "test = test[['Pclass', 'Age', 'Sex']]"
   ]
  },
  {
   "cell_type": "code",
   "execution_count": 313,
   "id": "d27ca52b",
   "metadata": {
    "collapsed": true
   },
   "outputs": [
    {
     "name": "stderr",
     "output_type": "stream",
     "text": [
      "C:\\Users\\Vishal rishi M K\\AppData\\Roaming\\Python\\Python37\\site-packages\\ipykernel_launcher.py:1: SettingWithCopyWarning: \n",
      "A value is trying to be set on a copy of a slice from a DataFrame.\n",
      "Try using .loc[row_indexer,col_indexer] = value instead\n",
      "\n",
      "See the caveats in the documentation: https://pandas.pydata.org/pandas-docs/stable/user_guide/indexing.html#returning-a-view-versus-a-copy\n",
      "  \"\"\"Entry point for launching an IPython kernel.\n"
     ]
    }
   ],
   "source": [
    "test['Sex'] = test['Sex'].apply(lambda x: 1 if x == 'male' else 0)"
   ]
  },
  {
   "cell_type": "code",
   "execution_count": 314,
   "id": "1b14a46c",
   "metadata": {
    "collapsed": true
   },
   "outputs": [
    {
     "name": "stderr",
     "output_type": "stream",
     "text": [
      "C:\\Users\\Vishal rishi M K\\Anaconda3\\lib\\site-packages\\pandas\\core\\generic.py:6392: SettingWithCopyWarning: \n",
      "A value is trying to be set on a copy of a slice from a DataFrame\n",
      "\n",
      "See the caveats in the documentation: https://pandas.pydata.org/pandas-docs/stable/user_guide/indexing.html#returning-a-view-versus-a-copy\n",
      "  return self._update_inplace(result)\n"
     ]
    }
   ],
   "source": [
    "median_age = test['Age'].median()\n",
    "test['Age'].fillna(median_age, inplace = True)"
   ]
  },
  {
   "cell_type": "code",
   "execution_count": 315,
   "id": "b6d0ada2",
   "metadata": {},
   "outputs": [
    {
     "name": "stdout",
     "output_type": "stream",
     "text": [
      "<class 'pandas.core.frame.DataFrame'>\n",
      "RangeIndex: 418 entries, 0 to 417\n",
      "Data columns (total 3 columns):\n",
      " #   Column  Non-Null Count  Dtype  \n",
      "---  ------  --------------  -----  \n",
      " 0   Pclass  418 non-null    int64  \n",
      " 1   Age     418 non-null    float64\n",
      " 2   Sex     418 non-null    int64  \n",
      "dtypes: float64(1), int64(2)\n",
      "memory usage: 9.9 KB\n"
     ]
    }
   ],
   "source": [
    "test.info()"
   ]
  },
  {
   "cell_type": "code",
   "execution_count": 317,
   "id": "5a6707e7",
   "metadata": {},
   "outputs": [],
   "source": [
    "test_predictions = log.predict(test)"
   ]
  }
 ],
 "metadata": {
  "kernelspec": {
   "display_name": "Python 3",
   "language": "python",
   "name": "python3"
  },
  "language_info": {
   "codemirror_mode": {
    "name": "ipython",
    "version": 3
   },
   "file_extension": ".py",
   "mimetype": "text/x-python",
   "name": "python",
   "nbconvert_exporter": "python",
   "pygments_lexer": "ipython3",
   "version": "3.7.4"
  }
 },
 "nbformat": 4,
 "nbformat_minor": 5
}
