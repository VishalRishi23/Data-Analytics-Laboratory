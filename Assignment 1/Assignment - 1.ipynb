{
 "cells": [
  {
   "cell_type": "code",
   "execution_count": 1,
   "id": "efd43c0a",
   "metadata": {},
   "outputs": [],
   "source": [
    "import numpy as np\n",
    "import pandas as pd\n",
    "import matplotlib.pyplot as plt\n",
    "import seaborn as sns\n",
    "import re\n",
    "import statsmodels.api as sm\n",
    "import scipy"
   ]
  },
  {
   "cell_type": "markdown",
   "id": "509343ef",
   "metadata": {},
   "source": [
    "## Read the data"
   ]
  },
  {
   "cell_type": "code",
   "execution_count": 2,
   "id": "d7e7c1bb",
   "metadata": {},
   "outputs": [],
   "source": [
    "data = pd.read_excel('merged_data.xlsx', index_col = 0)"
   ]
  },
  {
   "cell_type": "code",
   "execution_count": 3,
   "id": "9317d333",
   "metadata": {},
   "outputs": [
    {
     "data": {
      "text/html": [
       "<div>\n",
       "<style scoped>\n",
       "    .dataframe tbody tr th:only-of-type {\n",
       "        vertical-align: middle;\n",
       "    }\n",
       "\n",
       "    .dataframe tbody tr th {\n",
       "        vertical-align: top;\n",
       "    }\n",
       "\n",
       "    .dataframe thead th {\n",
       "        text-align: right;\n",
       "    }\n",
       "</style>\n",
       "<table border=\"1\" class=\"dataframe\">\n",
       "  <thead>\n",
       "    <tr style=\"text-align: right;\">\n",
       "      <th></th>\n",
       "      <th>State</th>\n",
       "      <th>AreaName</th>\n",
       "      <th>All_Poverty</th>\n",
       "      <th>M_Poverty</th>\n",
       "      <th>F_Poverty</th>\n",
       "      <th>FIPS</th>\n",
       "      <th>Med_Income</th>\n",
       "      <th>Med_Income_White</th>\n",
       "      <th>Med_Income_Black</th>\n",
       "      <th>Med_Income_Nat_Am</th>\n",
       "      <th>...</th>\n",
       "      <th>F_Without</th>\n",
       "      <th>All_With</th>\n",
       "      <th>All_Without</th>\n",
       "      <th>fips_x</th>\n",
       "      <th>Incidence_Rate</th>\n",
       "      <th>Avg_Ann_Incidence</th>\n",
       "      <th>recent_trend</th>\n",
       "      <th>fips_y</th>\n",
       "      <th>Mortality_Rate</th>\n",
       "      <th>Avg_Ann_Deaths</th>\n",
       "    </tr>\n",
       "  </thead>\n",
       "  <tbody>\n",
       "    <tr>\n",
       "      <th>0</th>\n",
       "      <td>AK</td>\n",
       "      <td>Aleutians East Borough, Alaska</td>\n",
       "      <td>553</td>\n",
       "      <td>334</td>\n",
       "      <td>219</td>\n",
       "      <td>2013</td>\n",
       "      <td>61518.0</td>\n",
       "      <td>72639.0</td>\n",
       "      <td>31250.0</td>\n",
       "      <td>54750.0</td>\n",
       "      <td>...</td>\n",
       "      <td>540</td>\n",
       "      <td>1442</td>\n",
       "      <td>1857</td>\n",
       "      <td>2013</td>\n",
       "      <td>*</td>\n",
       "      <td>3 or fewer</td>\n",
       "      <td>*</td>\n",
       "      <td>2013</td>\n",
       "      <td>*</td>\n",
       "      <td>*</td>\n",
       "    </tr>\n",
       "    <tr>\n",
       "      <th>1</th>\n",
       "      <td>AK</td>\n",
       "      <td>Aleutians West Census Area, Alaska</td>\n",
       "      <td>499</td>\n",
       "      <td>273</td>\n",
       "      <td>226</td>\n",
       "      <td>2016</td>\n",
       "      <td>84306.0</td>\n",
       "      <td>97321.0</td>\n",
       "      <td>93750.0</td>\n",
       "      <td>48750.0</td>\n",
       "      <td>...</td>\n",
       "      <td>564</td>\n",
       "      <td>4177</td>\n",
       "      <td>1333</td>\n",
       "      <td>2016</td>\n",
       "      <td>*</td>\n",
       "      <td>3 or fewer</td>\n",
       "      <td>*</td>\n",
       "      <td>2016</td>\n",
       "      <td>*</td>\n",
       "      <td>*</td>\n",
       "    </tr>\n",
       "    <tr>\n",
       "      <th>2</th>\n",
       "      <td>AK</td>\n",
       "      <td>Anchorage Municipality, Alaska</td>\n",
       "      <td>23914</td>\n",
       "      <td>10698</td>\n",
       "      <td>13216</td>\n",
       "      <td>2020</td>\n",
       "      <td>78326.0</td>\n",
       "      <td>87235.0</td>\n",
       "      <td>50535.0</td>\n",
       "      <td>53935.0</td>\n",
       "      <td>...</td>\n",
       "      <td>21393</td>\n",
       "      <td>243173</td>\n",
       "      <td>44638</td>\n",
       "      <td>2020</td>\n",
       "      <td>61.5</td>\n",
       "      <td>131</td>\n",
       "      <td>stable</td>\n",
       "      <td>2020</td>\n",
       "      <td>47.3</td>\n",
       "      <td>96</td>\n",
       "    </tr>\n",
       "    <tr>\n",
       "      <th>3</th>\n",
       "      <td>AK</td>\n",
       "      <td>Bethel Census Area, Alaska</td>\n",
       "      <td>4364</td>\n",
       "      <td>2199</td>\n",
       "      <td>2165</td>\n",
       "      <td>2050</td>\n",
       "      <td>51012.0</td>\n",
       "      <td>92647.0</td>\n",
       "      <td>73661.0</td>\n",
       "      <td>41594.0</td>\n",
       "      <td>...</td>\n",
       "      <td>1774</td>\n",
       "      <td>13023</td>\n",
       "      <td>4482</td>\n",
       "      <td>2050</td>\n",
       "      <td>62.7</td>\n",
       "      <td>6</td>\n",
       "      <td>stable</td>\n",
       "      <td>2050</td>\n",
       "      <td>58.3</td>\n",
       "      <td>5</td>\n",
       "    </tr>\n",
       "    <tr>\n",
       "      <th>4</th>\n",
       "      <td>AK</td>\n",
       "      <td>Bristol Bay Borough, Alaska</td>\n",
       "      <td>69</td>\n",
       "      <td>33</td>\n",
       "      <td>36</td>\n",
       "      <td>2060</td>\n",
       "      <td>79750.0</td>\n",
       "      <td>88000.0</td>\n",
       "      <td>NaN</td>\n",
       "      <td>63333.0</td>\n",
       "      <td>...</td>\n",
       "      <td>67</td>\n",
       "      <td>768</td>\n",
       "      <td>191</td>\n",
       "      <td>2060</td>\n",
       "      <td>*</td>\n",
       "      <td>3 or fewer</td>\n",
       "      <td>*</td>\n",
       "      <td>2060</td>\n",
       "      <td>*</td>\n",
       "      <td>*</td>\n",
       "    </tr>\n",
       "  </tbody>\n",
       "</table>\n",
       "<p>5 rows × 25 columns</p>\n",
       "</div>"
      ],
      "text/plain": [
       "  State                            AreaName  All_Poverty  M_Poverty  \\\n",
       "0    AK      Aleutians East Borough, Alaska          553        334   \n",
       "1    AK  Aleutians West Census Area, Alaska          499        273   \n",
       "2    AK      Anchorage Municipality, Alaska        23914      10698   \n",
       "3    AK          Bethel Census Area, Alaska         4364       2199   \n",
       "4    AK         Bristol Bay Borough, Alaska           69         33   \n",
       "\n",
       "   F_Poverty  FIPS  Med_Income  Med_Income_White  Med_Income_Black  \\\n",
       "0        219  2013     61518.0           72639.0           31250.0   \n",
       "1        226  2016     84306.0           97321.0           93750.0   \n",
       "2      13216  2020     78326.0           87235.0           50535.0   \n",
       "3       2165  2050     51012.0           92647.0           73661.0   \n",
       "4         36  2060     79750.0           88000.0               NaN   \n",
       "\n",
       "   Med_Income_Nat_Am  ...  F_Without  All_With  All_Without  fips_x  \\\n",
       "0            54750.0  ...        540      1442         1857    2013   \n",
       "1            48750.0  ...        564      4177         1333    2016   \n",
       "2            53935.0  ...      21393    243173        44638    2020   \n",
       "3            41594.0  ...       1774     13023         4482    2050   \n",
       "4            63333.0  ...         67       768          191    2060   \n",
       "\n",
       "   Incidence_Rate  Avg_Ann_Incidence  recent_trend  fips_y  Mortality_Rate  \\\n",
       "0               *         3 or fewer             *    2013               *   \n",
       "1               *         3 or fewer             *    2016               *   \n",
       "2            61.5                131        stable    2020            47.3   \n",
       "3            62.7                  6        stable    2050            58.3   \n",
       "4               *         3 or fewer             *    2060               *   \n",
       "\n",
       "  Avg_Ann_Deaths  \n",
       "0              *  \n",
       "1              *  \n",
       "2             96  \n",
       "3              5  \n",
       "4              *  \n",
       "\n",
       "[5 rows x 25 columns]"
      ]
     },
     "execution_count": 3,
     "metadata": {},
     "output_type": "execute_result"
    }
   ],
   "source": [
    "data.head()"
   ]
  },
  {
   "cell_type": "code",
   "execution_count": 4,
   "id": "9b327cd8",
   "metadata": {},
   "outputs": [
    {
     "data": {
      "text/plain": [
       "Index(['State', 'AreaName', 'All_Poverty', 'M_Poverty', 'F_Poverty', 'FIPS',\n",
       "       'Med_Income', 'Med_Income_White', 'Med_Income_Black',\n",
       "       'Med_Income_Nat_Am', 'Med_Income_Asian', 'Hispanic', 'M_With',\n",
       "       'M_Without', 'F_With', 'F_Without', 'All_With', 'All_Without', 'fips_x',\n",
       "       'Incidence_Rate', 'Avg_Ann_Incidence', 'recent_trend', 'fips_y',\n",
       "       'Mortality_Rate', 'Avg_Ann_Deaths'],\n",
       "      dtype='object')"
      ]
     },
     "execution_count": 4,
     "metadata": {},
     "output_type": "execute_result"
    }
   ],
   "source": [
    "data.columns"
   ]
  },
  {
   "cell_type": "markdown",
   "id": "bddb4755",
   "metadata": {},
   "source": [
    "## List the states"
   ]
  },
  {
   "cell_type": "code",
   "execution_count": 5,
   "id": "912a0d44",
   "metadata": {},
   "outputs": [
    {
     "data": {
      "text/plain": [
       "TX    254\n",
       "GA    159\n",
       "VA    132\n",
       "KY    120\n",
       "MO    115\n",
       "KS    105\n",
       "IL    102\n",
       "NC    100\n",
       "IA     99\n",
       "TN     95\n",
       "NE     93\n",
       "IN     92\n",
       "OH     88\n",
       "MN     87\n",
       "MI     83\n",
       "MS     82\n",
       "OK     77\n",
       "AR     75\n",
       "WI     72\n",
       "FL     67\n",
       "PA     67\n",
       "AL     67\n",
       "SD     65\n",
       "LA     64\n",
       "CO     64\n",
       "NY     62\n",
       "CA     58\n",
       "MT     56\n",
       "WV     55\n",
       "ND     53\n",
       "SC     46\n",
       "ID     44\n",
       "WA     39\n",
       "OR     36\n",
       "NM     33\n",
       "UT     29\n",
       "MD     24\n",
       "AK     23\n",
       "WY     23\n",
       "NJ     21\n",
       "NV     17\n",
       "ME     16\n",
       "AZ     15\n",
       "MA     14\n",
       "VT     14\n",
       "NH     10\n",
       "CT      8\n",
       "RI      5\n",
       "HI      5\n",
       "DE      3\n",
       "DC      1\n",
       "Name: State, dtype: int64"
      ]
     },
     "execution_count": 5,
     "metadata": {},
     "output_type": "execute_result"
    }
   ],
   "source": [
    "data['State'].value_counts()"
   ]
  },
  {
   "cell_type": "code",
   "execution_count": 6,
   "id": "4ab6575a",
   "metadata": {},
   "outputs": [
    {
     "data": {
      "text/plain": [
       "51"
      ]
     },
     "execution_count": 6,
     "metadata": {},
     "output_type": "execute_result"
    }
   ],
   "source": [
    "len(data['State'].unique()) #total no. of states"
   ]
  },
  {
   "cell_type": "code",
   "execution_count": 7,
   "id": "1332e8c2",
   "metadata": {},
   "outputs": [],
   "source": [
    "columns = ['State', 'AreaName', 'M_Poverty', 'F_Poverty', 'Med_Income', 'Med_Income_White', 'Med_Income_Black',\n",
    "           'Med_Income_Nat_Am', 'Med_Income_Asian', 'Hispanic', 'Incidence_Rate', 'Avg_Ann_Incidence', \n",
    "           'Mortality_Rate', 'Avg_Ann_Deaths', 'All_With', 'All_Without']\n",
    "data_reduced = data[columns]"
   ]
  },
  {
   "cell_type": "code",
   "execution_count": 8,
   "id": "6d05146c",
   "metadata": {},
   "outputs": [
    {
     "data": {
      "text/html": [
       "<div>\n",
       "<style scoped>\n",
       "    .dataframe tbody tr th:only-of-type {\n",
       "        vertical-align: middle;\n",
       "    }\n",
       "\n",
       "    .dataframe tbody tr th {\n",
       "        vertical-align: top;\n",
       "    }\n",
       "\n",
       "    .dataframe thead th {\n",
       "        text-align: right;\n",
       "    }\n",
       "</style>\n",
       "<table border=\"1\" class=\"dataframe\">\n",
       "  <thead>\n",
       "    <tr style=\"text-align: right;\">\n",
       "      <th></th>\n",
       "      <th>State</th>\n",
       "      <th>AreaName</th>\n",
       "      <th>M_Poverty</th>\n",
       "      <th>F_Poverty</th>\n",
       "      <th>Med_Income</th>\n",
       "      <th>Med_Income_White</th>\n",
       "      <th>Med_Income_Black</th>\n",
       "      <th>Med_Income_Nat_Am</th>\n",
       "      <th>Med_Income_Asian</th>\n",
       "      <th>Hispanic</th>\n",
       "      <th>Incidence_Rate</th>\n",
       "      <th>Avg_Ann_Incidence</th>\n",
       "      <th>Mortality_Rate</th>\n",
       "      <th>Avg_Ann_Deaths</th>\n",
       "      <th>All_With</th>\n",
       "      <th>All_Without</th>\n",
       "    </tr>\n",
       "  </thead>\n",
       "  <tbody>\n",
       "    <tr>\n",
       "      <th>0</th>\n",
       "      <td>AK</td>\n",
       "      <td>Aleutians East Borough, Alaska</td>\n",
       "      <td>334</td>\n",
       "      <td>219</td>\n",
       "      <td>61518.0</td>\n",
       "      <td>72639.0</td>\n",
       "      <td>31250.0</td>\n",
       "      <td>54750.0</td>\n",
       "      <td>62679.0</td>\n",
       "      <td>51250.0</td>\n",
       "      <td>*</td>\n",
       "      <td>3 or fewer</td>\n",
       "      <td>*</td>\n",
       "      <td>*</td>\n",
       "      <td>1442</td>\n",
       "      <td>1857</td>\n",
       "    </tr>\n",
       "    <tr>\n",
       "      <th>1</th>\n",
       "      <td>AK</td>\n",
       "      <td>Aleutians West Census Area, Alaska</td>\n",
       "      <td>273</td>\n",
       "      <td>226</td>\n",
       "      <td>84306.0</td>\n",
       "      <td>97321.0</td>\n",
       "      <td>93750.0</td>\n",
       "      <td>48750.0</td>\n",
       "      <td>81250.0</td>\n",
       "      <td>77500.0</td>\n",
       "      <td>*</td>\n",
       "      <td>3 or fewer</td>\n",
       "      <td>*</td>\n",
       "      <td>*</td>\n",
       "      <td>4177</td>\n",
       "      <td>1333</td>\n",
       "    </tr>\n",
       "    <tr>\n",
       "      <th>2</th>\n",
       "      <td>AK</td>\n",
       "      <td>Anchorage Municipality, Alaska</td>\n",
       "      <td>10698</td>\n",
       "      <td>13216</td>\n",
       "      <td>78326.0</td>\n",
       "      <td>87235.0</td>\n",
       "      <td>50535.0</td>\n",
       "      <td>53935.0</td>\n",
       "      <td>63757.0</td>\n",
       "      <td>53926.0</td>\n",
       "      <td>61.5</td>\n",
       "      <td>131</td>\n",
       "      <td>47.3</td>\n",
       "      <td>96</td>\n",
       "      <td>243173</td>\n",
       "      <td>44638</td>\n",
       "    </tr>\n",
       "    <tr>\n",
       "      <th>3</th>\n",
       "      <td>AK</td>\n",
       "      <td>Bethel Census Area, Alaska</td>\n",
       "      <td>2199</td>\n",
       "      <td>2165</td>\n",
       "      <td>51012.0</td>\n",
       "      <td>92647.0</td>\n",
       "      <td>73661.0</td>\n",
       "      <td>41594.0</td>\n",
       "      <td>110625.0</td>\n",
       "      <td>160114.0</td>\n",
       "      <td>62.7</td>\n",
       "      <td>6</td>\n",
       "      <td>58.3</td>\n",
       "      <td>5</td>\n",
       "      <td>13023</td>\n",
       "      <td>4482</td>\n",
       "    </tr>\n",
       "    <tr>\n",
       "      <th>4</th>\n",
       "      <td>AK</td>\n",
       "      <td>Bristol Bay Borough, Alaska</td>\n",
       "      <td>33</td>\n",
       "      <td>36</td>\n",
       "      <td>79750.0</td>\n",
       "      <td>88000.0</td>\n",
       "      <td>NaN</td>\n",
       "      <td>63333.0</td>\n",
       "      <td>NaN</td>\n",
       "      <td>25625.0</td>\n",
       "      <td>*</td>\n",
       "      <td>3 or fewer</td>\n",
       "      <td>*</td>\n",
       "      <td>*</td>\n",
       "      <td>768</td>\n",
       "      <td>191</td>\n",
       "    </tr>\n",
       "  </tbody>\n",
       "</table>\n",
       "</div>"
      ],
      "text/plain": [
       "  State                            AreaName  M_Poverty  F_Poverty  Med_Income  \\\n",
       "0    AK      Aleutians East Borough, Alaska        334        219     61518.0   \n",
       "1    AK  Aleutians West Census Area, Alaska        273        226     84306.0   \n",
       "2    AK      Anchorage Municipality, Alaska      10698      13216     78326.0   \n",
       "3    AK          Bethel Census Area, Alaska       2199       2165     51012.0   \n",
       "4    AK         Bristol Bay Borough, Alaska         33         36     79750.0   \n",
       "\n",
       "   Med_Income_White  Med_Income_Black  Med_Income_Nat_Am  Med_Income_Asian  \\\n",
       "0           72639.0           31250.0            54750.0           62679.0   \n",
       "1           97321.0           93750.0            48750.0           81250.0   \n",
       "2           87235.0           50535.0            53935.0           63757.0   \n",
       "3           92647.0           73661.0            41594.0          110625.0   \n",
       "4           88000.0               NaN            63333.0               NaN   \n",
       "\n",
       "   Hispanic Incidence_Rate Avg_Ann_Incidence Mortality_Rate Avg_Ann_Deaths  \\\n",
       "0   51250.0              *        3 or fewer              *              *   \n",
       "1   77500.0              *        3 or fewer              *              *   \n",
       "2   53926.0           61.5               131           47.3             96   \n",
       "3  160114.0           62.7                 6           58.3              5   \n",
       "4   25625.0              *        3 or fewer              *              *   \n",
       "\n",
       "   All_With  All_Without  \n",
       "0      1442         1857  \n",
       "1      4177         1333  \n",
       "2    243173        44638  \n",
       "3     13023         4482  \n",
       "4       768          191  "
      ]
     },
     "execution_count": 8,
     "metadata": {},
     "output_type": "execute_result"
    }
   ],
   "source": [
    "data_reduced.head()"
   ]
  },
  {
   "cell_type": "markdown",
   "id": "16a1c548",
   "metadata": {},
   "source": [
    "## Remove strings in numeric fields"
   ]
  },
  {
   "cell_type": "code",
   "execution_count": 9,
   "id": "74d534ea",
   "metadata": {
    "collapsed": true
   },
   "outputs": [
    {
     "name": "stderr",
     "output_type": "stream",
     "text": [
      "C:\\Users\\Vishal rishi M K\\AppData\\Roaming\\Python\\Python37\\site-packages\\ipykernel_launcher.py:6: SettingWithCopyWarning: \n",
      "A value is trying to be set on a copy of a slice from a DataFrame.\n",
      "Try using .loc[row_indexer,col_indexer] = value instead\n",
      "\n",
      "See the caveats in the documentation: https://pandas.pydata.org/pandas-docs/stable/user_guide/indexing.html#returning-a-view-versus-a-copy\n",
      "  \n",
      "C:\\Users\\Vishal rishi M K\\AppData\\Roaming\\Python\\Python37\\site-packages\\ipykernel_launcher.py:7: SettingWithCopyWarning: \n",
      "A value is trying to be set on a copy of a slice from a DataFrame.\n",
      "Try using .loc[row_indexer,col_indexer] = value instead\n",
      "\n",
      "See the caveats in the documentation: https://pandas.pydata.org/pandas-docs/stable/user_guide/indexing.html#returning-a-view-versus-a-copy\n",
      "  import sys\n"
     ]
    }
   ],
   "source": [
    "def map_fun(x):\n",
    "    if x == '*':\n",
    "        return np.nan\n",
    "    else:\n",
    "        return re.sub('\\D', '', str(x))\n",
    "data_reduced['Incidence_Rate'] = pd.to_numeric(data_reduced['Incidence_Rate'].apply(map_fun))\n",
    "data_reduced['Mortality_Rate'] = data_reduced['Mortality_Rate'].replace('*', np.nan)"
   ]
  },
  {
   "cell_type": "code",
   "execution_count": 10,
   "id": "3811a874",
   "metadata": {
    "collapsed": true
   },
   "outputs": [
    {
     "name": "stderr",
     "output_type": "stream",
     "text": [
      "C:\\Users\\Vishal rishi M K\\AppData\\Roaming\\Python\\Python37\\site-packages\\ipykernel_launcher.py:1: SettingWithCopyWarning: \n",
      "A value is trying to be set on a copy of a slice from a DataFrame.\n",
      "Try using .loc[row_indexer,col_indexer] = value instead\n",
      "\n",
      "See the caveats in the documentation: https://pandas.pydata.org/pandas-docs/stable/user_guide/indexing.html#returning-a-view-versus-a-copy\n",
      "  \"\"\"Entry point for launching an IPython kernel.\n"
     ]
    }
   ],
   "source": [
    "data_reduced['Population'] = data_reduced['All_Without'] + data_reduced['All_With']"
   ]
  },
  {
   "cell_type": "code",
   "execution_count": 12,
   "id": "fa348054",
   "metadata": {},
   "outputs": [
    {
     "data": {
      "text/html": [
       "<div>\n",
       "<style scoped>\n",
       "    .dataframe tbody tr th:only-of-type {\n",
       "        vertical-align: middle;\n",
       "    }\n",
       "\n",
       "    .dataframe tbody tr th {\n",
       "        vertical-align: top;\n",
       "    }\n",
       "\n",
       "    .dataframe thead th {\n",
       "        text-align: right;\n",
       "    }\n",
       "</style>\n",
       "<table border=\"1\" class=\"dataframe\">\n",
       "  <thead>\n",
       "    <tr style=\"text-align: right;\">\n",
       "      <th></th>\n",
       "      <th>M_Poverty</th>\n",
       "      <th>F_Poverty</th>\n",
       "      <th>Med_Income</th>\n",
       "      <th>Med_Income_White</th>\n",
       "      <th>Med_Income_Black</th>\n",
       "      <th>Med_Income_Nat_Am</th>\n",
       "      <th>Med_Income_Asian</th>\n",
       "      <th>Hispanic</th>\n",
       "      <th>Incidence_Rate</th>\n",
       "      <th>Mortality_Rate</th>\n",
       "      <th>All_With</th>\n",
       "      <th>All_Without</th>\n",
       "      <th>Population</th>\n",
       "    </tr>\n",
       "  </thead>\n",
       "  <tbody>\n",
       "    <tr>\n",
       "      <th>count</th>\n",
       "      <td>3134.000000</td>\n",
       "      <td>3134.000000</td>\n",
       "      <td>3133.000000</td>\n",
       "      <td>3132.000000</td>\n",
       "      <td>1924.000000</td>\n",
       "      <td>1474.000000</td>\n",
       "      <td>1377.000000</td>\n",
       "      <td>2453.000000</td>\n",
       "      <td>2714.000000</td>\n",
       "      <td>2809.000000</td>\n",
       "      <td>3.134000e+03</td>\n",
       "      <td>3.134000e+03</td>\n",
       "      <td>3.134000e+03</td>\n",
       "    </tr>\n",
       "    <tr>\n",
       "      <th>mean</th>\n",
       "      <td>6828.800893</td>\n",
       "      <td>8400.855775</td>\n",
       "      <td>46819.837855</td>\n",
       "      <td>49490.181992</td>\n",
       "      <td>34750.214137</td>\n",
       "      <td>43309.998643</td>\n",
       "      <td>65412.969499</td>\n",
       "      <td>41118.231553</td>\n",
       "      <td>633.265291</td>\n",
       "      <td>53.188537</td>\n",
       "      <td>8.646320e+04</td>\n",
       "      <td>1.289966e+04</td>\n",
       "      <td>9.936286e+04</td>\n",
       "    </tr>\n",
       "    <tr>\n",
       "      <th>std</th>\n",
       "      <td>24719.078097</td>\n",
       "      <td>29865.855831</td>\n",
       "      <td>12246.380184</td>\n",
       "      <td>12461.508031</td>\n",
       "      <td>18198.952565</td>\n",
       "      <td>23707.973354</td>\n",
       "      <td>34012.807537</td>\n",
       "      <td>16232.191608</td>\n",
       "      <td>256.345683</td>\n",
       "      <td>14.042077</td>\n",
       "      <td>2.699985e+05</td>\n",
       "      <td>5.331494e+04</td>\n",
       "      <td>3.204533e+05</td>\n",
       "    </tr>\n",
       "    <tr>\n",
       "      <th>min</th>\n",
       "      <td>5.000000</td>\n",
       "      <td>5.000000</td>\n",
       "      <td>19328.000000</td>\n",
       "      <td>19340.000000</td>\n",
       "      <td>2499.000000</td>\n",
       "      <td>2499.000000</td>\n",
       "      <td>2499.000000</td>\n",
       "      <td>2499.000000</td>\n",
       "      <td>25.000000</td>\n",
       "      <td>9.200000</td>\n",
       "      <td>6.700000e+01</td>\n",
       "      <td>8.000000e+00</td>\n",
       "      <td>7.500000e+01</td>\n",
       "    </tr>\n",
       "    <tr>\n",
       "      <th>25%</th>\n",
       "      <td>758.750000</td>\n",
       "      <td>957.000000</td>\n",
       "      <td>38826.000000</td>\n",
       "      <td>41393.500000</td>\n",
       "      <td>23747.250000</td>\n",
       "      <td>28895.750000</td>\n",
       "      <td>45974.000000</td>\n",
       "      <td>31563.000000</td>\n",
       "      <td>532.000000</td>\n",
       "      <td>43.700000</td>\n",
       "      <td>9.173500e+03</td>\n",
       "      <td>1.388250e+03</td>\n",
       "      <td>1.069575e+04</td>\n",
       "    </tr>\n",
       "    <tr>\n",
       "      <th>50%</th>\n",
       "      <td>1925.000000</td>\n",
       "      <td>2372.000000</td>\n",
       "      <td>45075.000000</td>\n",
       "      <td>47430.000000</td>\n",
       "      <td>30000.000000</td>\n",
       "      <td>39014.000000</td>\n",
       "      <td>60405.000000</td>\n",
       "      <td>38347.000000</td>\n",
       "      <td>672.000000</td>\n",
       "      <td>52.600000</td>\n",
       "      <td>2.144800e+04</td>\n",
       "      <td>3.323500e+03</td>\n",
       "      <td>2.502300e+04</td>\n",
       "    </tr>\n",
       "    <tr>\n",
       "      <th>75%</th>\n",
       "      <td>4697.500000</td>\n",
       "      <td>5812.500000</td>\n",
       "      <td>52224.000000</td>\n",
       "      <td>54534.500000</td>\n",
       "      <td>40570.250000</td>\n",
       "      <td>53199.250000</td>\n",
       "      <td>78504.000000</td>\n",
       "      <td>47500.000000</td>\n",
       "      <td>785.000000</td>\n",
       "      <td>61.200000</td>\n",
       "      <td>5.756150e+04</td>\n",
       "      <td>8.240000e+03</td>\n",
       "      <td>6.578550e+04</td>\n",
       "    </tr>\n",
       "    <tr>\n",
       "      <th>max</th>\n",
       "      <td>823612.000000</td>\n",
       "      <td>976653.000000</td>\n",
       "      <td>123453.000000</td>\n",
       "      <td>136311.000000</td>\n",
       "      <td>170195.000000</td>\n",
       "      <td>250001.000000</td>\n",
       "      <td>250001.000000</td>\n",
       "      <td>223750.000000</td>\n",
       "      <td>2037.000000</td>\n",
       "      <td>125.600000</td>\n",
       "      <td>8.134459e+06</td>\n",
       "      <td>1.834501e+06</td>\n",
       "      <td>9.968960e+06</td>\n",
       "    </tr>\n",
       "  </tbody>\n",
       "</table>\n",
       "</div>"
      ],
      "text/plain": [
       "           M_Poverty      F_Poverty     Med_Income  Med_Income_White  \\\n",
       "count    3134.000000    3134.000000    3133.000000       3132.000000   \n",
       "mean     6828.800893    8400.855775   46819.837855      49490.181992   \n",
       "std     24719.078097   29865.855831   12246.380184      12461.508031   \n",
       "min         5.000000       5.000000   19328.000000      19340.000000   \n",
       "25%       758.750000     957.000000   38826.000000      41393.500000   \n",
       "50%      1925.000000    2372.000000   45075.000000      47430.000000   \n",
       "75%      4697.500000    5812.500000   52224.000000      54534.500000   \n",
       "max    823612.000000  976653.000000  123453.000000     136311.000000   \n",
       "\n",
       "       Med_Income_Black  Med_Income_Nat_Am  Med_Income_Asian       Hispanic  \\\n",
       "count       1924.000000        1474.000000       1377.000000    2453.000000   \n",
       "mean       34750.214137       43309.998643      65412.969499   41118.231553   \n",
       "std        18198.952565       23707.973354      34012.807537   16232.191608   \n",
       "min         2499.000000        2499.000000       2499.000000    2499.000000   \n",
       "25%        23747.250000       28895.750000      45974.000000   31563.000000   \n",
       "50%        30000.000000       39014.000000      60405.000000   38347.000000   \n",
       "75%        40570.250000       53199.250000      78504.000000   47500.000000   \n",
       "max       170195.000000      250001.000000     250001.000000  223750.000000   \n",
       "\n",
       "       Incidence_Rate  Mortality_Rate      All_With   All_Without  \\\n",
       "count     2714.000000     2809.000000  3.134000e+03  3.134000e+03   \n",
       "mean       633.265291       53.188537  8.646320e+04  1.289966e+04   \n",
       "std        256.345683       14.042077  2.699985e+05  5.331494e+04   \n",
       "min         25.000000        9.200000  6.700000e+01  8.000000e+00   \n",
       "25%        532.000000       43.700000  9.173500e+03  1.388250e+03   \n",
       "50%        672.000000       52.600000  2.144800e+04  3.323500e+03   \n",
       "75%        785.000000       61.200000  5.756150e+04  8.240000e+03   \n",
       "max       2037.000000      125.600000  8.134459e+06  1.834501e+06   \n",
       "\n",
       "         Population  \n",
       "count  3.134000e+03  \n",
       "mean   9.936286e+04  \n",
       "std    3.204533e+05  \n",
       "min    7.500000e+01  \n",
       "25%    1.069575e+04  \n",
       "50%    2.502300e+04  \n",
       "75%    6.578550e+04  \n",
       "max    9.968960e+06  "
      ]
     },
     "execution_count": 12,
     "metadata": {},
     "output_type": "execute_result"
    }
   ],
   "source": [
    "data_reduced.describe()"
   ]
  },
  {
   "cell_type": "code",
   "execution_count": 13,
   "id": "a34e8770",
   "metadata": {},
   "outputs": [],
   "source": [
    "top8 = data['State'].value_counts().index[:8]\n",
    "df = data_reduced[data_reduced['State'].isin(top8)]"
   ]
  },
  {
   "cell_type": "code",
   "execution_count": 14,
   "id": "4ed2bc9b",
   "metadata": {},
   "outputs": [
    {
     "data": {
      "text/html": [
       "<div>\n",
       "<style scoped>\n",
       "    .dataframe tbody tr th:only-of-type {\n",
       "        vertical-align: middle;\n",
       "    }\n",
       "\n",
       "    .dataframe tbody tr th {\n",
       "        vertical-align: top;\n",
       "    }\n",
       "\n",
       "    .dataframe thead th {\n",
       "        text-align: right;\n",
       "    }\n",
       "</style>\n",
       "<table border=\"1\" class=\"dataframe\">\n",
       "  <thead>\n",
       "    <tr style=\"text-align: right;\">\n",
       "      <th></th>\n",
       "      <th>State</th>\n",
       "      <th>AreaName</th>\n",
       "      <th>M_Poverty</th>\n",
       "      <th>F_Poverty</th>\n",
       "      <th>Med_Income</th>\n",
       "      <th>Med_Income_White</th>\n",
       "      <th>Med_Income_Black</th>\n",
       "      <th>Med_Income_Nat_Am</th>\n",
       "      <th>Med_Income_Asian</th>\n",
       "      <th>Hispanic</th>\n",
       "      <th>Incidence_Rate</th>\n",
       "      <th>Avg_Ann_Incidence</th>\n",
       "      <th>Mortality_Rate</th>\n",
       "      <th>Avg_Ann_Deaths</th>\n",
       "      <th>All_With</th>\n",
       "      <th>All_Without</th>\n",
       "      <th>Population</th>\n",
       "    </tr>\n",
       "  </thead>\n",
       "  <tbody>\n",
       "    <tr>\n",
       "      <th>381</th>\n",
       "      <td>GA</td>\n",
       "      <td>Appling County, Georgia</td>\n",
       "      <td>1485</td>\n",
       "      <td>2260</td>\n",
       "      <td>37135.0</td>\n",
       "      <td>39981.0</td>\n",
       "      <td>26130.0</td>\n",
       "      <td>NaN</td>\n",
       "      <td>NaN</td>\n",
       "      <td>30907.0</td>\n",
       "      <td>744.0</td>\n",
       "      <td>15</td>\n",
       "      <td>56.3</td>\n",
       "      <td>12</td>\n",
       "      <td>14236</td>\n",
       "      <td>3717</td>\n",
       "      <td>17953</td>\n",
       "    </tr>\n",
       "    <tr>\n",
       "      <th>382</th>\n",
       "      <td>GA</td>\n",
       "      <td>Atkinson County, Georgia</td>\n",
       "      <td>1068</td>\n",
       "      <td>1302</td>\n",
       "      <td>30933.0</td>\n",
       "      <td>34130.0</td>\n",
       "      <td>24598.0</td>\n",
       "      <td>NaN</td>\n",
       "      <td>NaN</td>\n",
       "      <td>24009.0</td>\n",
       "      <td>594.0</td>\n",
       "      <td>5</td>\n",
       "      <td>75.8</td>\n",
       "      <td>6</td>\n",
       "      <td>5771</td>\n",
       "      <td>2497</td>\n",
       "      <td>8268</td>\n",
       "    </tr>\n",
       "    <tr>\n",
       "      <th>383</th>\n",
       "      <td>GA</td>\n",
       "      <td>Bacon County, Georgia</td>\n",
       "      <td>850</td>\n",
       "      <td>1069</td>\n",
       "      <td>37162.0</td>\n",
       "      <td>42561.0</td>\n",
       "      <td>20302.0</td>\n",
       "      <td>NaN</td>\n",
       "      <td>34706.0</td>\n",
       "      <td>42802.0</td>\n",
       "      <td>875.0</td>\n",
       "      <td>11</td>\n",
       "      <td>66.5</td>\n",
       "      <td>8</td>\n",
       "      <td>8681</td>\n",
       "      <td>2020</td>\n",
       "      <td>10701</td>\n",
       "    </tr>\n",
       "    <tr>\n",
       "      <th>384</th>\n",
       "      <td>GA</td>\n",
       "      <td>Baker County, Georgia</td>\n",
       "      <td>287</td>\n",
       "      <td>465</td>\n",
       "      <td>44297.0</td>\n",
       "      <td>51538.0</td>\n",
       "      <td>26806.0</td>\n",
       "      <td>NaN</td>\n",
       "      <td>NaN</td>\n",
       "      <td>NaN</td>\n",
       "      <td>729.0</td>\n",
       "      <td>3</td>\n",
       "      <td>NaN</td>\n",
       "      <td>*</td>\n",
       "      <td>2602</td>\n",
       "      <td>690</td>\n",
       "      <td>3292</td>\n",
       "    </tr>\n",
       "    <tr>\n",
       "      <th>385</th>\n",
       "      <td>GA</td>\n",
       "      <td>Baldwin County, Georgia</td>\n",
       "      <td>5601</td>\n",
       "      <td>7600</td>\n",
       "      <td>32460.0</td>\n",
       "      <td>39592.0</td>\n",
       "      <td>22906.0</td>\n",
       "      <td>NaN</td>\n",
       "      <td>39524.0</td>\n",
       "      <td>NaN</td>\n",
       "      <td>735.0</td>\n",
       "      <td>36</td>\n",
       "      <td>47.3</td>\n",
       "      <td>23</td>\n",
       "      <td>37782</td>\n",
       "      <td>5744</td>\n",
       "      <td>43526</td>\n",
       "    </tr>\n",
       "  </tbody>\n",
       "</table>\n",
       "</div>"
      ],
      "text/plain": [
       "    State                  AreaName  M_Poverty  F_Poverty  Med_Income  \\\n",
       "381    GA   Appling County, Georgia       1485       2260     37135.0   \n",
       "382    GA  Atkinson County, Georgia       1068       1302     30933.0   \n",
       "383    GA     Bacon County, Georgia        850       1069     37162.0   \n",
       "384    GA     Baker County, Georgia        287        465     44297.0   \n",
       "385    GA   Baldwin County, Georgia       5601       7600     32460.0   \n",
       "\n",
       "     Med_Income_White  Med_Income_Black  Med_Income_Nat_Am  Med_Income_Asian  \\\n",
       "381           39981.0           26130.0                NaN               NaN   \n",
       "382           34130.0           24598.0                NaN               NaN   \n",
       "383           42561.0           20302.0                NaN           34706.0   \n",
       "384           51538.0           26806.0                NaN               NaN   \n",
       "385           39592.0           22906.0                NaN           39524.0   \n",
       "\n",
       "     Hispanic  Incidence_Rate Avg_Ann_Incidence  Mortality_Rate  \\\n",
       "381   30907.0           744.0                15            56.3   \n",
       "382   24009.0           594.0                 5            75.8   \n",
       "383   42802.0           875.0                11            66.5   \n",
       "384       NaN           729.0                 3             NaN   \n",
       "385       NaN           735.0                36            47.3   \n",
       "\n",
       "    Avg_Ann_Deaths  All_With  All_Without  Population  \n",
       "381             12     14236         3717       17953  \n",
       "382              6      5771         2497        8268  \n",
       "383              8      8681         2020       10701  \n",
       "384              *      2602          690        3292  \n",
       "385             23     37782         5744       43526  "
      ]
     },
     "execution_count": 14,
     "metadata": {},
     "output_type": "execute_result"
    }
   ],
   "source": [
    "df.head()"
   ]
  },
  {
   "cell_type": "markdown",
   "id": "a1326aba",
   "metadata": {},
   "source": [
    "## Verifying the independence and identical distribution of Med_Income"
   ]
  },
  {
   "cell_type": "code",
   "execution_count": 18,
   "id": "a8465234",
   "metadata": {},
   "outputs": [
    {
     "data": {
      "image/png": "[encoded data removed]",
      "text/plain": [
       "<Figure size 360x360 with 1 Axes>"
      ]
     },
     "metadata": {
      "needs_background": "light"
     },
     "output_type": "display_data"
    }
   ],
   "source": [
    "#plt.figure(figsize = (10, 20))\n",
    "sns.catplot(x = \"State\", y = \"Med_Income\", kind = 'box', data = df)\n",
    "plt.savefig('a.png')"
   ]
  },
  {
   "cell_type": "code",
   "execution_count": 19,
   "id": "5c855217",
   "metadata": {},
   "outputs": [
    {
     "data": {
      "text/html": [
       "<div>\n",
       "<style scoped>\n",
       "    .dataframe tbody tr th:only-of-type {\n",
       "        vertical-align: middle;\n",
       "    }\n",
       "\n",
       "    .dataframe tbody tr th {\n",
       "        vertical-align: top;\n",
       "    }\n",
       "\n",
       "    .dataframe thead th {\n",
       "        text-align: right;\n",
       "    }\n",
       "</style>\n",
       "<table border=\"1\" class=\"dataframe\">\n",
       "  <thead>\n",
       "    <tr style=\"text-align: right;\">\n",
       "      <th></th>\n",
       "      <th>M_Poverty</th>\n",
       "      <th>F_Poverty</th>\n",
       "      <th>Med_Income</th>\n",
       "      <th>Med_Income_White</th>\n",
       "      <th>Med_Income_Black</th>\n",
       "      <th>Med_Income_Nat_Am</th>\n",
       "      <th>Med_Income_Asian</th>\n",
       "      <th>Hispanic</th>\n",
       "      <th>Incidence_Rate</th>\n",
       "      <th>Mortality_Rate</th>\n",
       "      <th>All_With</th>\n",
       "      <th>All_Without</th>\n",
       "      <th>Population</th>\n",
       "    </tr>\n",
       "  </thead>\n",
       "  <tbody>\n",
       "    <tr>\n",
       "      <th>count</th>\n",
       "      <td>1087.000000</td>\n",
       "      <td>1087.000000</td>\n",
       "      <td>1086.000000</td>\n",
       "      <td>1086.000000</td>\n",
       "      <td>746.000000</td>\n",
       "      <td>384.000000</td>\n",
       "      <td>408.000000</td>\n",
       "      <td>861.000000</td>\n",
       "      <td>928.000000</td>\n",
       "      <td>982.000000</td>\n",
       "      <td>1.087000e+03</td>\n",
       "      <td>1.087000e+03</td>\n",
       "      <td>1.087000e+03</td>\n",
       "    </tr>\n",
       "    <tr>\n",
       "      <th>mean</th>\n",
       "      <td>5223.596136</td>\n",
       "      <td>6503.724011</td>\n",
       "      <td>45179.418969</td>\n",
       "      <td>47919.604052</td>\n",
       "      <td>33891.183646</td>\n",
       "      <td>48324.817708</td>\n",
       "      <td>67067.117647</td>\n",
       "      <td>40826.430894</td>\n",
       "      <td>686.592672</td>\n",
       "      <td>56.540530</td>\n",
       "      <td>6.162615e+04</td>\n",
       "      <td>1.129411e+04</td>\n",
       "      <td>7.292026e+04</td>\n",
       "    </tr>\n",
       "    <tr>\n",
       "      <th>std</th>\n",
       "      <td>19901.700159</td>\n",
       "      <td>24463.968771</td>\n",
       "      <td>12271.292167</td>\n",
       "      <td>12702.452411</td>\n",
       "      <td>16882.028215</td>\n",
       "      <td>28919.247513</td>\n",
       "      <td>37645.754919</td>\n",
       "      <td>17924.633904</td>\n",
       "      <td>274.574705</td>\n",
       "      <td>14.482482</td>\n",
       "      <td>2.150451e+05</td>\n",
       "      <td>4.881002e+04</td>\n",
       "      <td>2.613012e+05</td>\n",
       "    </tr>\n",
       "    <tr>\n",
       "      <th>min</th>\n",
       "      <td>5.000000</td>\n",
       "      <td>5.000000</td>\n",
       "      <td>19328.000000</td>\n",
       "      <td>19340.000000</td>\n",
       "      <td>2499.000000</td>\n",
       "      <td>2499.000000</td>\n",
       "      <td>2499.000000</td>\n",
       "      <td>2499.000000</td>\n",
       "      <td>32.000000</td>\n",
       "      <td>20.700000</td>\n",
       "      <td>8.600000e+01</td>\n",
       "      <td>3.100000e+01</td>\n",
       "      <td>1.170000e+02</td>\n",
       "    </tr>\n",
       "    <tr>\n",
       "      <th>25%</th>\n",
       "      <td>725.500000</td>\n",
       "      <td>929.000000</td>\n",
       "      <td>37467.750000</td>\n",
       "      <td>40170.500000</td>\n",
       "      <td>23433.250000</td>\n",
       "      <td>29513.000000</td>\n",
       "      <td>44745.750000</td>\n",
       "      <td>30948.000000</td>\n",
       "      <td>588.000000</td>\n",
       "      <td>47.200000</td>\n",
       "      <td>8.236500e+03</td>\n",
       "      <td>1.339500e+03</td>\n",
       "      <td>9.860500e+03</td>\n",
       "    </tr>\n",
       "    <tr>\n",
       "      <th>50%</th>\n",
       "      <td>1636.000000</td>\n",
       "      <td>2067.000000</td>\n",
       "      <td>43166.500000</td>\n",
       "      <td>45613.500000</td>\n",
       "      <td>29661.500000</td>\n",
       "      <td>42795.500000</td>\n",
       "      <td>60638.500000</td>\n",
       "      <td>37617.000000</td>\n",
       "      <td>723.000000</td>\n",
       "      <td>55.350000</td>\n",
       "      <td>1.740600e+04</td>\n",
       "      <td>3.002000e+03</td>\n",
       "      <td>2.041700e+04</td>\n",
       "    </tr>\n",
       "    <tr>\n",
       "      <th>75%</th>\n",
       "      <td>3754.500000</td>\n",
       "      <td>4540.500000</td>\n",
       "      <td>50394.500000</td>\n",
       "      <td>53005.750000</td>\n",
       "      <td>39858.500000</td>\n",
       "      <td>60843.000000</td>\n",
       "      <td>82693.750000</td>\n",
       "      <td>46985.000000</td>\n",
       "      <td>836.250000</td>\n",
       "      <td>63.825000</td>\n",
       "      <td>4.065400e+04</td>\n",
       "      <td>6.874000e+03</td>\n",
       "      <td>4.831150e+04</td>\n",
       "    </tr>\n",
       "    <tr>\n",
       "      <th>max</th>\n",
       "      <td>392713.000000</td>\n",
       "      <td>486786.000000</td>\n",
       "      <td>123453.000000</td>\n",
       "      <td>136311.000000</td>\n",
       "      <td>157917.000000</td>\n",
       "      <td>250001.000000</td>\n",
       "      <td>250001.000000</td>\n",
       "      <td>223750.000000</td>\n",
       "      <td>1575.000000</td>\n",
       "      <td>125.600000</td>\n",
       "      <td>4.451741e+06</td>\n",
       "      <td>1.020251e+06</td>\n",
       "      <td>5.192597e+06</td>\n",
       "    </tr>\n",
       "  </tbody>\n",
       "</table>\n",
       "</div>"
      ],
      "text/plain": [
       "           M_Poverty      F_Poverty     Med_Income  Med_Income_White  \\\n",
       "count    1087.000000    1087.000000    1086.000000       1086.000000   \n",
       "mean     5223.596136    6503.724011   45179.418969      47919.604052   \n",
       "std     19901.700159   24463.968771   12271.292167      12702.452411   \n",
       "min         5.000000       5.000000   19328.000000      19340.000000   \n",
       "25%       725.500000     929.000000   37467.750000      40170.500000   \n",
       "50%      1636.000000    2067.000000   43166.500000      45613.500000   \n",
       "75%      3754.500000    4540.500000   50394.500000      53005.750000   \n",
       "max    392713.000000  486786.000000  123453.000000     136311.000000   \n",
       "\n",
       "       Med_Income_Black  Med_Income_Nat_Am  Med_Income_Asian       Hispanic  \\\n",
       "count        746.000000         384.000000        408.000000     861.000000   \n",
       "mean       33891.183646       48324.817708      67067.117647   40826.430894   \n",
       "std        16882.028215       28919.247513      37645.754919   17924.633904   \n",
       "min         2499.000000        2499.000000       2499.000000    2499.000000   \n",
       "25%        23433.250000       29513.000000      44745.750000   30948.000000   \n",
       "50%        29661.500000       42795.500000      60638.500000   37617.000000   \n",
       "75%        39858.500000       60843.000000      82693.750000   46985.000000   \n",
       "max       157917.000000      250001.000000     250001.000000  223750.000000   \n",
       "\n",
       "       Incidence_Rate  Mortality_Rate      All_With   All_Without  \\\n",
       "count      928.000000      982.000000  1.087000e+03  1.087000e+03   \n",
       "mean       686.592672       56.540530  6.162615e+04  1.129411e+04   \n",
       "std        274.574705       14.482482  2.150451e+05  4.881002e+04   \n",
       "min         32.000000       20.700000  8.600000e+01  3.100000e+01   \n",
       "25%        588.000000       47.200000  8.236500e+03  1.339500e+03   \n",
       "50%        723.000000       55.350000  1.740600e+04  3.002000e+03   \n",
       "75%        836.250000       63.825000  4.065400e+04  6.874000e+03   \n",
       "max       1575.000000      125.600000  4.451741e+06  1.020251e+06   \n",
       "\n",
       "         Population  \n",
       "count  1.087000e+03  \n",
       "mean   7.292026e+04  \n",
       "std    2.613012e+05  \n",
       "min    1.170000e+02  \n",
       "25%    9.860500e+03  \n",
       "50%    2.041700e+04  \n",
       "75%    4.831150e+04  \n",
       "max    5.192597e+06  "
      ]
     },
     "execution_count": 19,
     "metadata": {},
     "output_type": "execute_result"
    }
   ],
   "source": [
    "df.describe()"
   ]
  },
  {
   "cell_type": "markdown",
   "id": "565a1c6a",
   "metadata": {},
   "source": [
    "## States GA and KY"
   ]
  },
  {
   "cell_type": "code",
   "execution_count": 20,
   "id": "bc91c0fb",
   "metadata": {},
   "outputs": [
    {
     "data": {
      "image/png": "[encoded data removed]",
      "text/plain": [
       "<Figure size 432x288 with 1 Axes>"
      ]
     },
     "metadata": {
      "needs_background": "light"
     },
     "output_type": "display_data"
    }
   ],
   "source": [
    "sns.histplot(data = df[df['State'] == 'GA'], x = 'Med_Income', kde = True, stat = 'probability')\n",
    "plt.savefig('a.png')"
   ]
  },
  {
   "cell_type": "code",
   "execution_count": 21,
   "id": "40e91328",
   "metadata": {},
   "outputs": [
    {
     "data": {
      "image/png": "[encoded data removed]",
      "text/plain": [
       "<Figure size 432x288 with 1 Axes>"
      ]
     },
     "metadata": {
      "needs_background": "light"
     },
     "output_type": "display_data"
    }
   ],
   "source": [
    "sns.histplot(data = df[df['State'] == 'KY'], x = 'Med_Income', kde = True, stat = 'probability')\n",
    "plt.savefig('a.png')"
   ]
  },
  {
   "cell_type": "code",
   "execution_count": 22,
   "id": "26fefe44",
   "metadata": {},
   "outputs": [
    {
     "data": {
      "image/png": "[encoded data removed]",
      "text/plain": [
       "<Figure size 432x288 with 1 Axes>"
      ]
     },
     "metadata": {
      "needs_background": "light"
     },
     "output_type": "display_data"
    }
   ],
   "source": [
    "df_1 = df[df['State'].isin(['GA', 'KY'])]\n",
    "sm.graphics.tsa.plot_acf(df_1['Med_Income'])\n",
    "plt.savefig('a.png')"
   ]
  },
  {
   "cell_type": "code",
   "execution_count": 23,
   "id": "ef9f56ca",
   "metadata": {},
   "outputs": [
    {
     "data": {
      "image/png": "[encoded data removed]",
      "text/plain": [
       "<Figure size 576x432 with 1 Axes>"
      ]
     },
     "metadata": {
      "needs_background": "light"
     },
     "output_type": "display_data"
    }
   ],
   "source": [
    "fig, ax = plt.subplots(figsize=(8,6))\n",
    "a = scipy.stats.probplot(df_1['Med_Income'], plot = ax)\n",
    "ax.set_title(\"Probplot for Med_Income\")\n",
    "plt.savefig('a.png')"
   ]
  },
  {
   "cell_type": "markdown",
   "id": "063fc612",
   "metadata": {},
   "source": [
    "## States MO and NC"
   ]
  },
  {
   "cell_type": "code",
   "execution_count": 20,
   "id": "8f545edd",
   "metadata": {},
   "outputs": [
    {
     "data": {
      "text/plain": [
       "<AxesSubplot:xlabel='Med_Income', ylabel='Probability'>"
      ]
     },
     "execution_count": 20,
     "metadata": {},
     "output_type": "execute_result"
    },
    {
     "data": {
      "image/png": "[encoded data removed]",
      "text/plain": [
       "<Figure size 432x288 with 1 Axes>"
      ]
     },
     "metadata": {
      "needs_background": "light"
     },
     "output_type": "display_data"
    }
   ],
   "source": [
    "sns.histplot(data = df[df['State'] == 'MO'], x = 'Med_Income', kde = True, stat = 'probability')"
   ]
  },
  {
   "cell_type": "code",
   "execution_count": 21,
   "id": "7107cc09",
   "metadata": {},
   "outputs": [
    {
     "data": {
      "text/plain": [
       "<AxesSubplot:xlabel='Med_Income', ylabel='Probability'>"
      ]
     },
     "execution_count": 21,
     "metadata": {},
     "output_type": "execute_result"
    },
    {
     "data": {
      "image/png": "[encoded data removed]",
      "text/plain": [
       "<Figure size 432x288 with 1 Axes>"
      ]
     },
     "metadata": {
      "needs_background": "light"
     },
     "output_type": "display_data"
    }
   ],
   "source": [
    "sns.histplot(data = df[df['State'] == 'NC'], x = 'Med_Income', kde = True, stat = 'probability')"
   ]
  },
  {
   "cell_type": "code",
   "execution_count": 22,
   "id": "c2dee367",
   "metadata": {},
   "outputs": [
    {
     "data": {
      "image/png": "[encoded data removed]",
      "text/plain": [
       "<Figure size 432x288 with 1 Axes>"
      ]
     },
     "execution_count": 22,
     "metadata": {},
     "output_type": "execute_result"
    },
    {
     "data": {
      "image/png": "[encoded data removed]",
      "text/plain": [
       "<Figure size 432x288 with 1 Axes>"
      ]
     },
     "metadata": {
      "needs_background": "light"
     },
     "output_type": "display_data"
    }
   ],
   "source": [
    "df_2 = df[df['State'].isin(['MO', 'NC'])]\n",
    "sm.graphics.tsa.plot_acf(df_2['Med_Income'])"
   ]
  },
  {
   "cell_type": "markdown",
   "id": "e38a7bd0",
   "metadata": {},
   "source": [
    "## States KS and IL"
   ]
  },
  {
   "cell_type": "code",
   "execution_count": 22,
   "id": "c1030438",
   "metadata": {},
   "outputs": [
    {
     "data": {
      "text/plain": [
       "<AxesSubplot:xlabel='Med_Income', ylabel='Probability'>"
      ]
     },
     "execution_count": 22,
     "metadata": {},
     "output_type": "execute_result"
    },
    {
     "data": {
      "image/png": "[encoded data removed]",
      "text/plain": [
       "<Figure size 432x288 with 1 Axes>"
      ]
     },
     "metadata": {
      "needs_background": "light"
     },
     "output_type": "display_data"
    }
   ],
   "source": [
    "sns.histplot(data = df[df['State'] == 'KS'], x = 'Med_Income', kde = True, stat = 'probability')"
   ]
  },
  {
   "cell_type": "code",
   "execution_count": 23,
   "id": "19aa9aaf",
   "metadata": {},
   "outputs": [
    {
     "data": {
      "text/plain": [
       "<AxesSubplot:xlabel='Med_Income', ylabel='Probability'>"
      ]
     },
     "execution_count": 23,
     "metadata": {},
     "output_type": "execute_result"
    },
    {
     "data": {
      "image/png": "[encoded data removed]",
      "text/plain": [
       "<Figure size 432x288 with 1 Axes>"
      ]
     },
     "metadata": {
      "needs_background": "light"
     },
     "output_type": "display_data"
    }
   ],
   "source": [
    "sns.histplot(data = df[df['State'] == 'IL'], x = 'Med_Income', kde = True, stat = 'probability')"
   ]
  },
  {
   "cell_type": "code",
   "execution_count": 23,
   "id": "9e13b5e8",
   "metadata": {},
   "outputs": [
    {
     "data": {
      "image/png": "[encoded data removed]",
      "text/plain": [
       "<Figure size 432x288 with 1 Axes>"
      ]
     },
     "execution_count": 23,
     "metadata": {},
     "output_type": "execute_result"
    },
    {
     "data": {
      "image/png": "[encoded data removed]",
      "text/plain": [
       "<Figure size 432x288 with 1 Axes>"
      ]
     },
     "metadata": {
      "needs_background": "light"
     },
     "output_type": "display_data"
    }
   ],
   "source": [
    "df_3 = df[df['State'].isin(['KS', 'IL'])]\n",
    "sm.graphics.tsa.plot_acf(df_3['Med_Income'])"
   ]
  },
  {
   "cell_type": "code",
   "execution_count": 24,
   "id": "254cca05",
   "metadata": {},
   "outputs": [
    {
     "data": {
      "text/html": [
       "<div>\n",
       "<style scoped>\n",
       "    .dataframe tbody tr th:only-of-type {\n",
       "        vertical-align: middle;\n",
       "    }\n",
       "\n",
       "    .dataframe tbody tr th {\n",
       "        vertical-align: top;\n",
       "    }\n",
       "\n",
       "    .dataframe thead th {\n",
       "        text-align: right;\n",
       "    }\n",
       "</style>\n",
       "<table border=\"1\" class=\"dataframe\">\n",
       "  <thead>\n",
       "    <tr style=\"text-align: right;\">\n",
       "      <th></th>\n",
       "      <th>M_Poverty</th>\n",
       "      <th>F_Poverty</th>\n",
       "      <th>Med_Income</th>\n",
       "      <th>Med_Income_White</th>\n",
       "      <th>Med_Income_Black</th>\n",
       "      <th>Med_Income_Nat_Am</th>\n",
       "      <th>Med_Income_Asian</th>\n",
       "      <th>Hispanic</th>\n",
       "      <th>Incidence_Rate</th>\n",
       "      <th>Mortality_Rate</th>\n",
       "      <th>All_With</th>\n",
       "      <th>All_Without</th>\n",
       "      <th>Population</th>\n",
       "    </tr>\n",
       "  </thead>\n",
       "  <tbody>\n",
       "    <tr>\n",
       "      <th>count</th>\n",
       "      <td>207.000000</td>\n",
       "      <td>207.000000</td>\n",
       "      <td>207.000000</td>\n",
       "      <td>207.000000</td>\n",
       "      <td>84.000000</td>\n",
       "      <td>74.000000</td>\n",
       "      <td>80.000000</td>\n",
       "      <td>166.000000</td>\n",
       "      <td>102.000000</td>\n",
       "      <td>171.000000</td>\n",
       "      <td>2.070000e+02</td>\n",
       "      <td>207.000000</td>\n",
       "      <td>2.070000e+02</td>\n",
       "    </tr>\n",
       "    <tr>\n",
       "      <th>mean</th>\n",
       "      <td>4717.178744</td>\n",
       "      <td>5826.159420</td>\n",
       "      <td>48722.236715</td>\n",
       "      <td>49790.048309</td>\n",
       "      <td>35856.964286</td>\n",
       "      <td>44319.513514</td>\n",
       "      <td>61528.212500</td>\n",
       "      <td>42591.102410</td>\n",
       "      <td>712.813725</td>\n",
       "      <td>53.517544</td>\n",
       "      <td>6.672146e+04</td>\n",
       "      <td>8293.497585</td>\n",
       "      <td>7.501496e+04</td>\n",
       "    </tr>\n",
       "    <tr>\n",
       "      <th>std</th>\n",
       "      <td>27671.115205</td>\n",
       "      <td>34276.382372</td>\n",
       "      <td>8569.333879</td>\n",
       "      <td>8923.723817</td>\n",
       "      <td>19498.210439</td>\n",
       "      <td>22246.306180</td>\n",
       "      <td>35689.778588</td>\n",
       "      <td>14427.151911</td>\n",
       "      <td>243.545134</td>\n",
       "      <td>10.411150</td>\n",
       "      <td>3.243214e+05</td>\n",
       "      <td>52376.976534</td>\n",
       "      <td>3.762572e+05</td>\n",
       "    </tr>\n",
       "    <tr>\n",
       "      <th>min</th>\n",
       "      <td>38.000000</td>\n",
       "      <td>44.000000</td>\n",
       "      <td>27265.000000</td>\n",
       "      <td>34142.000000</td>\n",
       "      <td>2499.000000</td>\n",
       "      <td>2499.000000</td>\n",
       "      <td>2499.000000</td>\n",
       "      <td>2499.000000</td>\n",
       "      <td>54.000000</td>\n",
       "      <td>26.500000</td>\n",
       "      <td>1.118000e+03</td>\n",
       "      <td>78.000000</td>\n",
       "      <td>1.196000e+03</td>\n",
       "    </tr>\n",
       "    <tr>\n",
       "      <th>25%</th>\n",
       "      <td>312.000000</td>\n",
       "      <td>391.500000</td>\n",
       "      <td>43711.500000</td>\n",
       "      <td>43953.500000</td>\n",
       "      <td>23533.000000</td>\n",
       "      <td>28202.250000</td>\n",
       "      <td>40983.500000</td>\n",
       "      <td>35000.000000</td>\n",
       "      <td>663.000000</td>\n",
       "      <td>46.200000</td>\n",
       "      <td>5.264000e+03</td>\n",
       "      <td>543.000000</td>\n",
       "      <td>5.787000e+03</td>\n",
       "    </tr>\n",
       "    <tr>\n",
       "      <th>50%</th>\n",
       "      <td>859.000000</td>\n",
       "      <td>1137.000000</td>\n",
       "      <td>47434.000000</td>\n",
       "      <td>48139.000000</td>\n",
       "      <td>30997.000000</td>\n",
       "      <td>42410.500000</td>\n",
       "      <td>59687.500000</td>\n",
       "      <td>41152.000000</td>\n",
       "      <td>761.500000</td>\n",
       "      <td>52.800000</td>\n",
       "      <td>1.400400e+04</td>\n",
       "      <td>1401.000000</td>\n",
       "      <td>1.561100e+04</td>\n",
       "    </tr>\n",
       "    <tr>\n",
       "      <th>75%</th>\n",
       "      <td>2248.000000</td>\n",
       "      <td>2948.500000</td>\n",
       "      <td>52237.000000</td>\n",
       "      <td>53425.000000</td>\n",
       "      <td>44228.250000</td>\n",
       "      <td>55397.250000</td>\n",
       "      <td>76025.250000</td>\n",
       "      <td>51861.750000</td>\n",
       "      <td>864.750000</td>\n",
       "      <td>60.000000</td>\n",
       "      <td>3.139800e+04</td>\n",
       "      <td>3598.500000</td>\n",
       "      <td>3.422250e+04</td>\n",
       "    </tr>\n",
       "    <tr>\n",
       "      <th>max</th>\n",
       "      <td>392713.000000</td>\n",
       "      <td>486786.000000</td>\n",
       "      <td>84385.000000</td>\n",
       "      <td>86339.000000</td>\n",
       "      <td>105039.000000</td>\n",
       "      <td>110543.000000</td>\n",
       "      <td>250001.000000</td>\n",
       "      <td>83452.000000</td>\n",
       "      <td>1131.000000</td>\n",
       "      <td>80.200000</td>\n",
       "      <td>4.451741e+06</td>\n",
       "      <td>740856.000000</td>\n",
       "      <td>5.192597e+06</td>\n",
       "    </tr>\n",
       "  </tbody>\n",
       "</table>\n",
       "</div>"
      ],
      "text/plain": [
       "           M_Poverty      F_Poverty    Med_Income  Med_Income_White  \\\n",
       "count     207.000000     207.000000    207.000000        207.000000   \n",
       "mean     4717.178744    5826.159420  48722.236715      49790.048309   \n",
       "std     27671.115205   34276.382372   8569.333879       8923.723817   \n",
       "min        38.000000      44.000000  27265.000000      34142.000000   \n",
       "25%       312.000000     391.500000  43711.500000      43953.500000   \n",
       "50%       859.000000    1137.000000  47434.000000      48139.000000   \n",
       "75%      2248.000000    2948.500000  52237.000000      53425.000000   \n",
       "max    392713.000000  486786.000000  84385.000000      86339.000000   \n",
       "\n",
       "       Med_Income_Black  Med_Income_Nat_Am  Med_Income_Asian      Hispanic  \\\n",
       "count         84.000000          74.000000         80.000000    166.000000   \n",
       "mean       35856.964286       44319.513514      61528.212500  42591.102410   \n",
       "std        19498.210439       22246.306180      35689.778588  14427.151911   \n",
       "min         2499.000000        2499.000000       2499.000000   2499.000000   \n",
       "25%        23533.000000       28202.250000      40983.500000  35000.000000   \n",
       "50%        30997.000000       42410.500000      59687.500000  41152.000000   \n",
       "75%        44228.250000       55397.250000      76025.250000  51861.750000   \n",
       "max       105039.000000      110543.000000     250001.000000  83452.000000   \n",
       "\n",
       "       Incidence_Rate  Mortality_Rate      All_With    All_Without  \\\n",
       "count      102.000000      171.000000  2.070000e+02     207.000000   \n",
       "mean       712.813725       53.517544  6.672146e+04    8293.497585   \n",
       "std        243.545134       10.411150  3.243214e+05   52376.976534   \n",
       "min         54.000000       26.500000  1.118000e+03      78.000000   \n",
       "25%        663.000000       46.200000  5.264000e+03     543.000000   \n",
       "50%        761.500000       52.800000  1.400400e+04    1401.000000   \n",
       "75%        864.750000       60.000000  3.139800e+04    3598.500000   \n",
       "max       1131.000000       80.200000  4.451741e+06  740856.000000   \n",
       "\n",
       "         Population  \n",
       "count  2.070000e+02  \n",
       "mean   7.501496e+04  \n",
       "std    3.762572e+05  \n",
       "min    1.196000e+03  \n",
       "25%    5.787000e+03  \n",
       "50%    1.561100e+04  \n",
       "75%    3.422250e+04  \n",
       "max    5.192597e+06  "
      ]
     },
     "execution_count": 24,
     "metadata": {},
     "output_type": "execute_result"
    }
   ],
   "source": [
    "df_3.describe()"
   ]
  },
  {
   "cell_type": "code",
   "execution_count": 25,
   "id": "ead1d57f",
   "metadata": {},
   "outputs": [],
   "source": [
    "#Save the datasets\n",
    "df_1.to_csv('df_1.csv')\n",
    "df_2.to_csv('df_2.csv')\n",
    "df_3.to_csv('df_3.csv')"
   ]
  }
 ],
 "metadata": {
  "kernelspec": {
   "display_name": "Python 3",
   "language": "python",
   "name": "python3"
  },
  "language_info": {
   "codemirror_mode": {
    "name": "ipython",
    "version": 3
   },
   "file_extension": ".py",
   "mimetype": "text/x-python",
   "name": "python",
   "nbconvert_exporter": "python",
   "pygments_lexer": "ipython3",
   "version": "3.7.4"
  }
 },
 "nbformat": 4,
 "nbformat_minor": 5
}
